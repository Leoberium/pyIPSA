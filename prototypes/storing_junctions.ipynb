{
 "cells": [
  {
   "cell_type": "code",
   "execution_count": 1,
   "metadata": {},
   "outputs": [],
   "source": [
    "import numpy as np\n",
    "import pandas as pd\n",
    "from random import choice"
   ]
  },
  {
   "cell_type": "code",
   "execution_count": 2,
   "metadata": {},
   "outputs": [],
   "source": [
    "def generate_junctions(n=10**6):\n",
    "    a = [()] * n\n",
    "    for i in range(n):\n",
    "        seq = 'chr' + str(np.random.randint(1, 23))\n",
    "        start = str(np.random.randint(1, 10**8+1))\n",
    "        end = str(np.random.randint(start, 10**8+1))\n",
    "        strand = choice((\"+\", \"-\"))\n",
    "        offset = np.random.randint(1, 101)\n",
    "        count = np.random.randint(1, 1001)\n",
    "        a[i] = (\"_\".join((seq, start, end, strand)),\n",
    "               offset, count)\n",
    "    return a    "
   ]
  },
  {
   "cell_type": "code",
   "execution_count": 3,
   "metadata": {},
   "outputs": [],
   "source": [
    "junctions = generate_junctions()"
   ]
  },
  {
   "cell_type": "code",
   "execution_count": 4,
   "metadata": {},
   "outputs": [],
   "source": [
    "from collections import namedtuple\n",
    "nt_junction = namedtuple(\"Pandas\", [\"junction_id\", \"offset\", \"count\"])"
   ]
  },
  {
   "cell_type": "code",
   "execution_count": 5,
   "metadata": {},
   "outputs": [
    {
     "name": "stdout",
     "output_type": "stream",
     "text": [
      "246 ms ± 236 µs per loop (mean ± std. dev. of 7 runs, 1 loop each)\n"
     ]
    }
   ],
   "source": [
    "%%timeit\n",
    "b = []\n",
    "for junction in junctions:\n",
    "    b.append(nt_junction(*junction))"
   ]
  },
  {
   "cell_type": "code",
   "execution_count": 6,
   "metadata": {},
   "outputs": [
    {
     "name": "stdout",
     "output_type": "stream",
     "text": [
      "237 ms ± 1.97 ms per loop (mean ± std. dev. of 7 runs, 1 loop each)\n"
     ]
    }
   ],
   "source": [
    "%%timeit\n",
    "b = []\n",
    "for junction in junctions:\n",
    "    b.append(tuple(iter(junction)))"
   ]
  },
  {
   "cell_type": "code",
   "execution_count": 7,
   "metadata": {},
   "outputs": [
    {
     "name": "stdout",
     "output_type": "stream",
     "text": [
      "238 ms ± 3 ms per loop (mean ± std. dev. of 7 runs, 1 loop each)\n"
     ]
    }
   ],
   "source": [
    "%%timeit\n",
    "b = []\n",
    "for junction in junctions:\n",
    "    b.append(list(iter(junction)))"
   ]
  },
  {
   "cell_type": "code",
   "execution_count": 8,
   "metadata": {},
   "outputs": [
    {
     "name": "stdout",
     "output_type": "stream",
     "text": [
      "226 ms ± 1.2 ms per loop (mean ± std. dev. of 7 runs, 10 loops each)\n"
     ]
    }
   ],
   "source": [
    "%%timeit\n",
    "b = []\n",
    "for junction in junctions:\n",
    "    b.append({\n",
    "        \"junction_id\": junction[0],\n",
    "        \"offset\": junction[1],\n",
    "        \"count\": junction[2]\n",
    "    })"
   ]
  },
  {
   "cell_type": "code",
   "execution_count": 9,
   "metadata": {},
   "outputs": [],
   "source": [
    "b = []\n",
    "for junction in junctions:\n",
    "    b.append({\n",
    "        \"junction_id\": junction[0],\n",
    "        \"offset\": junction[1],\n",
    "        \"count\": junction[2]\n",
    "    })"
   ]
  },
  {
   "cell_type": "code",
   "execution_count": 10,
   "metadata": {},
   "outputs": [],
   "source": [
    "%load_ext memory_profiler"
   ]
  },
  {
   "cell_type": "code",
   "execution_count": 11,
   "metadata": {},
   "outputs": [
    {
     "name": "stdout",
     "output_type": "stream",
     "text": [
      "peak memory: 542.87 MiB, increment: 0.32 MiB\n"
     ]
    }
   ],
   "source": [
    "%memit b"
   ]
  },
  {
   "cell_type": "code",
   "execution_count": 12,
   "metadata": {},
   "outputs": [],
   "source": [
    "b = []\n",
    "for junction in junctions:\n",
    "    b.append(nt_junction(*junction))"
   ]
  },
  {
   "cell_type": "code",
   "execution_count": 13,
   "metadata": {},
   "outputs": [
    {
     "name": "stdout",
     "output_type": "stream",
     "text": [
      "peak memory: 418.27 MiB, increment: 0.02 MiB\n"
     ]
    }
   ],
   "source": [
    "%memit b"
   ]
  },
  {
   "cell_type": "code",
   "execution_count": 19,
   "metadata": {},
   "outputs": [
    {
     "name": "stdout",
     "output_type": "stream",
     "text": [
      "peak memory: 673.82 MiB, increment: 77.13 MiB\n"
     ]
    }
   ],
   "source": [
    "%memit pd.DataFrame(b)"
   ]
  },
  {
   "cell_type": "markdown",
   "metadata": {},
   "source": [
    "Some recipe from github:"
   ]
  },
  {
   "cell_type": "code",
   "execution_count": 19,
   "metadata": {},
   "outputs": [],
   "source": [
    "class Record(object):\n",
    "    \n",
    "    __slots__ = ()\n",
    "    \n",
    "    def __init__(self, *args):\n",
    "        assert len(self.__slots__) == len(args)\n",
    "        for field, value in zip(self.__slots__, args):\n",
    "            setattr(self, field, value)\n",
    "            \n",
    "    def __getitem__(self, index):\n",
    "        return getattr(self, self.__slots__[index])\n",
    "    \n",
    "    def __len__(self):\n",
    "        return len(self.__slots__)\n",
    "    \n",
    "    def __eq__(self, that):\n",
    "        if not isinstance(that, type(self)):\n",
    "            return NotImplemented\n",
    "        return all(item == iota for item, iota in zip(self, that))\n",
    "    \n",
    "    def __repr__(self):\n",
    "        args = \", \".join(repr(item) for item in self)\n",
    "        return f\"{type(self).__name__, }({args})\"\n",
    "    \n",
    "    def __getstate__(self):\n",
    "        return tuple(self)\n",
    "    \n",
    "    def __setstate__(self, state):\n",
    "        self.__init__(*state)"
   ]
  },
  {
   "cell_type": "code",
   "execution_count": 20,
   "metadata": {},
   "outputs": [],
   "source": [
    "class re_junction(Record):\n",
    "    __slots__ = \"junction_id\", \"offset\", \"count\""
   ]
  },
  {
   "cell_type": "code",
   "execution_count": 24,
   "metadata": {},
   "outputs": [
    {
     "name": "stdout",
     "output_type": "stream",
     "text": [
      "572 ms ± 6.04 ms per loop (mean ± std. dev. of 7 runs, 1 loop each)\n"
     ]
    }
   ],
   "source": [
    "%%timeit\n",
    "b = []\n",
    "for junction in junctions:\n",
    "    b.append(re_junction(*junction))"
   ]
  },
  {
   "cell_type": "code",
   "execution_count": 25,
   "metadata": {},
   "outputs": [],
   "source": [
    "b = []\n",
    "for junction in junctions:\n",
    "    b.append(re_junction(*junction))"
   ]
  },
  {
   "cell_type": "code",
   "execution_count": 26,
   "metadata": {},
   "outputs": [
    {
     "name": "stdout",
     "output_type": "stream",
     "text": [
      "peak memory: 409.38 MiB, increment: 0.10 MiB\n"
     ]
    }
   ],
   "source": [
    "%memit b"
   ]
  },
  {
   "cell_type": "markdown",
   "metadata": {},
   "source": [
    "Сonclusion: use `namedtuple`"
   ]
  }
 ],
 "metadata": {
  "kernelspec": {
   "display_name": "Python 3",
   "language": "python",
   "name": "python3"
  },
  "language_info": {
   "codemirror_mode": {
    "name": "ipython",
    "version": 3
   },
   "file_extension": ".py",
   "mimetype": "text/x-python",
   "name": "python",
   "nbconvert_exporter": "python",
   "pygments_lexer": "ipython3",
   "version": "3.7.9"
  }
 },
 "nbformat": 4,
 "nbformat_minor": 4
}
