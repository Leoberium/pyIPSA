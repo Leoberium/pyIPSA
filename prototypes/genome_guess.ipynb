{
 "cells": [
  {
   "cell_type": "code",
   "execution_count": 1,
   "metadata": {},
   "outputs": [],
   "source": [
    "import gzip\n",
    "import re"
   ]
  },
  {
   "cell_type": "code",
   "execution_count": 2,
   "metadata": {},
   "outputs": [],
   "source": [
    "def junctions_to_set(filename):\n",
    "    pairs = set()\n",
    "    n_finder = re.compile('(?<=_)(\\d+)')\n",
    "    if filename.endswith(\".gz\"):\n",
    "        with gzip.open(filename, \"rt\") as f:\n",
    "            for line in f:\n",
    "                j, *_ = line.split(\"\\t\")\n",
    "                left, right = map(int, n_finder.findall(j))\n",
    "                pairs.add((left, right))\n",
    "    else:\n",
    "        with open(filename, \"r\") as f:\n",
    "            for line in f:\n",
    "                j, *_ = line.split(\"\\t\")\n",
    "                left, right = map(int, n_finder.findall(j))\n",
    "                pairs.add((left, right))\n",
    "    return pairs"
   ]
  },
  {
   "cell_type": "code",
   "execution_count": 3,
   "metadata": {},
   "outputs": [],
   "source": [
    "def ss_to_set(filename):\n",
    "    pairs = set()\n",
    "    with gzip.open(filename, \"rt\") as f:\n",
    "        for line in f:\n",
    "            _, left, right, _ = line.split(\"\\t\")\n",
    "            left, right = int(left), int(right)\n",
    "            pairs.add((left, right))\n",
    "    return pairs"
   ]
  },
  {
   "cell_type": "code",
   "execution_count": 4,
   "metadata": {},
   "outputs": [],
   "source": [
    "%load_ext memory_profiler"
   ]
  },
  {
   "cell_type": "code",
   "execution_count": 5,
   "metadata": {},
   "outputs": [
    {
     "name": "stdout",
     "output_type": "stream",
     "text": [
      "peak memory: 116.15 MiB, increment: 66.86 MiB\n"
     ]
    }
   ],
   "source": [
    "%memit junctions = junctions_to_set(\"../../_pyIPSA/sorted_output/python_PCAWG.sorted.tsv\")"
   ]
  },
  {
   "cell_type": "code",
   "execution_count": 6,
   "metadata": {},
   "outputs": [
    {
     "name": "stdout",
     "output_type": "stream",
     "text": [
      "peak memory: 380.86 MiB, increment: 264.59 MiB\n"
     ]
    }
   ],
   "source": [
    "%%memit\n",
    "dm3 = ss_to_set(\"../splice_sites/dm3.ss.tsv.gz\")\n",
    "dm6 = ss_to_set(\"../splice_sites/dm6.ss.tsv.gz\")\n",
    "mm9 = ss_to_set(\"../splice_sites/mm9.ss.tsv.gz\")\n",
    "mm10 = ss_to_set(\"../splice_sites/mm10.ss.tsv.gz\")\n",
    "hg19 = ss_to_set(\"../splice_sites/hg19.ss.tsv.gz\")\n",
    "hg38 = ss_to_set(\"../splice_sites/hg38.ss.tsv.gz\")"
   ]
  },
  {
   "cell_type": "code",
   "execution_count": 7,
   "metadata": {},
   "outputs": [
    {
     "name": "stdout",
     "output_type": "stream",
     "text": [
      "57403 60275 240777 284778 383906 384441\n"
     ]
    }
   ],
   "source": [
    "print(*map(len, [dm3, dm6, mm9, mm10, hg19, hg38]))"
   ]
  },
  {
   "cell_type": "code",
   "execution_count": 8,
   "metadata": {},
   "outputs": [],
   "source": [
    "def compare(j):\n",
    "    for g in [\"dm3\", \"dm6\", \"mm9\", \"mm10\", \"hg19\", \"hg38\"]:\n",
    "        print(f\"Number of hits with {g}: {len(j.intersection(globals()[g]))}\")"
   ]
  },
  {
   "cell_type": "code",
   "execution_count": 9,
   "metadata": {},
   "outputs": [
    {
     "name": "stdout",
     "output_type": "stream",
     "text": [
      "Number of hits with dm3: 0\n",
      "Number of hits with dm6: 0\n",
      "Number of hits with mm9: 0\n",
      "Number of hits with mm10: 0\n",
      "Number of hits with hg19: 211230\n",
      "Number of hits with hg38: 1623\n"
     ]
    }
   ],
   "source": [
    "compare(junctions)"
   ]
  },
  {
   "cell_type": "code",
   "execution_count": 10,
   "metadata": {},
   "outputs": [
    {
     "name": "stdout",
     "output_type": "stream",
     "text": [
      "Number of hits with dm3: 0\n",
      "Number of hits with dm6: 0\n",
      "Number of hits with mm9: 0\n",
      "Number of hits with mm10: 0\n",
      "Number of hits with hg19: 191792\n",
      "Number of hits with hg38: 1448\n"
     ]
    }
   ],
   "source": [
    "compare(junctions_to_set(\"../../_pyIPSA/sorted_output/python_00ce28a8_PCAWG_tophat.sorted.tsv\"))"
   ]
  },
  {
   "cell_type": "code",
   "execution_count": 11,
   "metadata": {},
   "outputs": [
    {
     "name": "stdout",
     "output_type": "stream",
     "text": [
      "Number of hits with dm3: 0\n",
      "Number of hits with dm6: 0\n",
      "Number of hits with mm9: 0\n",
      "Number of hits with mm10: 0\n",
      "Number of hits with hg19: 161844\n",
      "Number of hits with hg38: 1154\n"
     ]
    }
   ],
   "source": [
    "compare(junctions_to_set(\"../../_pyIPSA/sorted_output/python_ENCODE.sorted.tsv\"))"
   ]
  },
  {
   "cell_type": "code",
   "execution_count": 12,
   "metadata": {},
   "outputs": [
    {
     "name": "stdout",
     "output_type": "stream",
     "text": [
      "Number of hits with dm3: 31216\n",
      "Number of hits with dm6: 6772\n",
      "Number of hits with mm9: 0\n",
      "Number of hits with mm10: 0\n",
      "Number of hits with hg19: 0\n",
      "Number of hits with hg38: 0\n"
     ]
    }
   ],
   "source": [
    "compare(junctions_to_set(\"../../_pyIPSA/dm3_test.tsv.gz\"))"
   ]
  },
  {
   "cell_type": "code",
   "execution_count": 13,
   "metadata": {},
   "outputs": [
    {
     "name": "stdout",
     "output_type": "stream",
     "text": [
      "Number of hits with dm3: 0\n",
      "Number of hits with dm6: 0\n",
      "Number of hits with mm9: 0\n",
      "Number of hits with mm10: 0\n",
      "Number of hits with hg19: 1311\n",
      "Number of hits with hg38: 161255\n"
     ]
    }
   ],
   "source": [
    "compare(junctions_to_set(\"../../_pyIPSA/hg38_test.tsv.gz\"))"
   ]
  },
  {
   "cell_type": "markdown",
   "metadata": {},
   "source": [
    "Now the same with sites:"
   ]
  },
  {
   "cell_type": "code",
   "execution_count": 14,
   "metadata": {},
   "outputs": [],
   "source": [
    "def j_to_s(s):\n",
    "    ss = set()\n",
    "    for x, y in s:\n",
    "        ss.add(x)\n",
    "        ss.add(y)\n",
    "    return ss"
   ]
  },
  {
   "cell_type": "code",
   "execution_count": 15,
   "metadata": {},
   "outputs": [],
   "source": [
    "sdm3, sdm6, smm9, smm10, shg19, shg38 = map(j_to_s, [dm3, dm6, mm9, mm10, hg19, hg38])"
   ]
  },
  {
   "cell_type": "code",
   "execution_count": 16,
   "metadata": {},
   "outputs": [
    {
     "name": "stdout",
     "output_type": "stream",
     "text": [
      "103364 107142 432145 494603 600195 601192\n"
     ]
    }
   ],
   "source": [
    "print(*map(len, [sdm3, sdm6, smm9, smm10, shg19, shg38]))"
   ]
  },
  {
   "cell_type": "code",
   "execution_count": 17,
   "metadata": {},
   "outputs": [],
   "source": [
    "def sites_to_set(filename):\n",
    "    s = set()\n",
    "    n_finder = re.compile('(?<=_)(\\d+)')\n",
    "    if filename.endswith(\".gz\"):\n",
    "        with gzip.open(filename, \"rt\") as f:\n",
    "            for line in f:\n",
    "                ss, *_ = line.split(\"\\t\")\n",
    "                s.add(int(n_finder.search(ss).group(1)))\n",
    "    else:\n",
    "        with open(filename, \"r\") as f:\n",
    "            for line in f:\n",
    "                ss, *_ = line.split(\"\\t\")\n",
    "                s.add(int(n_finder.search(ss).group(1)))\n",
    "    return s"
   ]
  },
  {
   "cell_type": "code",
   "execution_count": 18,
   "metadata": {},
   "outputs": [],
   "source": [
    "def scompare(s):\n",
    "    for g in [\"sdm3\", \"sdm6\", \"smm9\", \"smm10\", \"shg19\", \"shg38\"]:\n",
    "        print(f\"Number of hits with {g}: {len(s.intersection(globals()[g]))}\")"
   ]
  },
  {
   "cell_type": "code",
   "execution_count": 19,
   "metadata": {},
   "outputs": [],
   "source": [
    "minipcawg_sites = sites_to_set(\"../output/miniPCAWG/unprocessed.ssc.gz\")"
   ]
  },
  {
   "cell_type": "code",
   "execution_count": 20,
   "metadata": {},
   "outputs": [
    {
     "name": "stdout",
     "output_type": "stream",
     "text": [
      "Number of hits with sdm3: 9\n",
      "Number of hits with sdm6: 12\n",
      "Number of hits with smm9: 25\n",
      "Number of hits with smm10: 27\n",
      "Number of hits with shg19: 5535\n",
      "Number of hits with shg38: 43\n"
     ]
    }
   ],
   "source": [
    "scompare(minipcawg_sites)"
   ]
  },
  {
   "cell_type": "code",
   "execution_count": 21,
   "metadata": {},
   "outputs": [
    {
     "name": "stdout",
     "output_type": "stream",
     "text": [
      "Number of hits with sdm3: 335\n",
      "Number of hits with sdm6: 352\n",
      "Number of hits with smm9: 957\n",
      "Number of hits with smm10: 1192\n",
      "Number of hits with shg19: 268099\n",
      "Number of hits with shg38: 3467\n"
     ]
    }
   ],
   "source": [
    "scompare(sites_to_set(\"../../_pyIPSA/sb_output/PCAWG_sjcov.tsv\"))"
   ]
  },
  {
   "cell_type": "code",
   "execution_count": 22,
   "metadata": {},
   "outputs": [
    {
     "name": "stdout",
     "output_type": "stream",
     "text": [
      "Number of hits with sdm3: 40681\n",
      "Number of hits with sdm6: 9024\n",
      "Number of hits with smm9: 111\n",
      "Number of hits with smm10: 141\n",
      "Number of hits with shg19: 277\n",
      "Number of hits with shg38: 252\n"
     ]
    }
   ],
   "source": [
    "scompare(sites_to_set(\"../../_pyIPSA/sdm3_test.tsv.gz\"))"
   ]
  },
  {
   "cell_type": "code",
   "execution_count": 23,
   "metadata": {},
   "outputs": [
    {
     "name": "stdout",
     "output_type": "stream",
     "text": [
      "Number of hits with sdm3: 249\n",
      "Number of hits with sdm6: 251\n",
      "Number of hits with smm9: 700\n",
      "Number of hits with smm10: 817\n",
      "Number of hits with shg19: 211329\n",
      "Number of hits with shg38: 2566\n"
     ]
    }
   ],
   "source": [
    "scompare(sites_to_set(\"../../_pyIPSA/shg19_test.tsv.gz\"))"
   ]
  }
 ],
 "metadata": {
  "kernelspec": {
   "display_name": "Python 3",
   "language": "python",
   "name": "python3"
  },
  "language_info": {
   "codemirror_mode": {
    "name": "ipython",
    "version": 3
   },
   "file_extension": ".py",
   "mimetype": "text/x-python",
   "name": "python",
   "nbconvert_exporter": "python",
   "pygments_lexer": "ipython3",
   "version": "3.7.9"
  }
 },
 "nbformat": 4,
 "nbformat_minor": 4
}
