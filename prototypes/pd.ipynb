{
 "cells": [
  {
   "cell_type": "code",
   "execution_count": 1,
   "metadata": {},
   "outputs": [],
   "source": [
    "import pandas as pd"
   ]
  },
  {
   "cell_type": "code",
   "execution_count": 2,
   "metadata": {},
   "outputs": [],
   "source": [
    "ssj = pd.read_table(\"miniPCAWG.ssj.tsv.gz\", header=None)"
   ]
  },
  {
   "cell_type": "code",
   "execution_count": 4,
   "metadata": {},
   "outputs": [],
   "source": [
    "ssj.columns = [\"junction_id\", \"offset\", \"F1\", \"R1\", \"F2\", \"R2\"]"
   ]
  },
  {
   "cell_type": "code",
   "execution_count": 5,
   "metadata": {},
   "outputs": [
    {
     "data": {
      "text/html": [
       "<div>\n",
       "<style scoped>\n",
       "    .dataframe tbody tr th:only-of-type {\n",
       "        vertical-align: middle;\n",
       "    }\n",
       "\n",
       "    .dataframe tbody tr th {\n",
       "        vertical-align: top;\n",
       "    }\n",
       "\n",
       "    .dataframe thead th {\n",
       "        text-align: right;\n",
       "    }\n",
       "</style>\n",
       "<table border=\"1\" class=\"dataframe\">\n",
       "  <thead>\n",
       "    <tr style=\"text-align: right;\">\n",
       "      <th></th>\n",
       "      <th>junction_id</th>\n",
       "      <th>offset</th>\n",
       "      <th>F1</th>\n",
       "      <th>R1</th>\n",
       "      <th>F2</th>\n",
       "      <th>R2</th>\n",
       "    </tr>\n",
       "  </thead>\n",
       "  <tbody>\n",
       "    <tr>\n",
       "      <th>0</th>\n",
       "      <td>22_16151821_16162397</td>\n",
       "      <td>7</td>\n",
       "      <td>0</td>\n",
       "      <td>2</td>\n",
       "      <td>0</td>\n",
       "      <td>0</td>\n",
       "    </tr>\n",
       "    <tr>\n",
       "      <th>1</th>\n",
       "      <td>22_16151821_16162397</td>\n",
       "      <td>14</td>\n",
       "      <td>0</td>\n",
       "      <td>0</td>\n",
       "      <td>1</td>\n",
       "      <td>0</td>\n",
       "    </tr>\n",
       "    <tr>\n",
       "      <th>2</th>\n",
       "      <td>22_16151821_16162397</td>\n",
       "      <td>18</td>\n",
       "      <td>0</td>\n",
       "      <td>0</td>\n",
       "      <td>0</td>\n",
       "      <td>1</td>\n",
       "    </tr>\n",
       "    <tr>\n",
       "      <th>3</th>\n",
       "      <td>22_16151821_16162397</td>\n",
       "      <td>25</td>\n",
       "      <td>0</td>\n",
       "      <td>0</td>\n",
       "      <td>0</td>\n",
       "      <td>1</td>\n",
       "    </tr>\n",
       "    <tr>\n",
       "      <th>4</th>\n",
       "      <td>22_16151821_16162397</td>\n",
       "      <td>35</td>\n",
       "      <td>1</td>\n",
       "      <td>0</td>\n",
       "      <td>0</td>\n",
       "      <td>0</td>\n",
       "    </tr>\n",
       "    <tr>\n",
       "      <th>...</th>\n",
       "      <td>...</td>\n",
       "      <td>...</td>\n",
       "      <td>...</td>\n",
       "      <td>...</td>\n",
       "      <td>...</td>\n",
       "      <td>...</td>\n",
       "    </tr>\n",
       "    <tr>\n",
       "      <th>162158</th>\n",
       "      <td>22_51227226_51227323</td>\n",
       "      <td>50</td>\n",
       "      <td>0</td>\n",
       "      <td>0</td>\n",
       "      <td>1</td>\n",
       "      <td>0</td>\n",
       "    </tr>\n",
       "    <tr>\n",
       "      <th>162159</th>\n",
       "      <td>22_51227226_51227323</td>\n",
       "      <td>51</td>\n",
       "      <td>0</td>\n",
       "      <td>0</td>\n",
       "      <td>1</td>\n",
       "      <td>0</td>\n",
       "    </tr>\n",
       "    <tr>\n",
       "      <th>162160</th>\n",
       "      <td>22_51227226_51227323</td>\n",
       "      <td>81</td>\n",
       "      <td>0</td>\n",
       "      <td>0</td>\n",
       "      <td>1</td>\n",
       "      <td>0</td>\n",
       "    </tr>\n",
       "    <tr>\n",
       "      <th>162161</th>\n",
       "      <td>22_51227230_51227320</td>\n",
       "      <td>64</td>\n",
       "      <td>1</td>\n",
       "      <td>0</td>\n",
       "      <td>0</td>\n",
       "      <td>0</td>\n",
       "    </tr>\n",
       "    <tr>\n",
       "      <th>162162</th>\n",
       "      <td>22_51227230_51227320</td>\n",
       "      <td>87</td>\n",
       "      <td>0</td>\n",
       "      <td>1</td>\n",
       "      <td>0</td>\n",
       "      <td>0</td>\n",
       "    </tr>\n",
       "  </tbody>\n",
       "</table>\n",
       "<p>162163 rows × 6 columns</p>\n",
       "</div>"
      ],
      "text/plain": [
       "                 junction_id  offset  F1  R1  F2  R2\n",
       "0       22_16151821_16162397       7   0   2   0   0\n",
       "1       22_16151821_16162397      14   0   0   1   0\n",
       "2       22_16151821_16162397      18   0   0   0   1\n",
       "3       22_16151821_16162397      25   0   0   0   1\n",
       "4       22_16151821_16162397      35   1   0   0   0\n",
       "...                      ...     ...  ..  ..  ..  ..\n",
       "162158  22_51227226_51227323      50   0   0   1   0\n",
       "162159  22_51227226_51227323      51   0   0   1   0\n",
       "162160  22_51227226_51227323      81   0   0   1   0\n",
       "162161  22_51227230_51227320      64   1   0   0   0\n",
       "162162  22_51227230_51227320      87   0   1   0   0\n",
       "\n",
       "[162163 rows x 6 columns]"
      ]
     },
     "execution_count": 5,
     "metadata": {},
     "output_type": "execute_result"
    }
   ],
   "source": [
    "ssj"
   ]
  },
  {
   "cell_type": "code",
   "execution_count": 16,
   "metadata": {},
   "outputs": [
    {
     "name": "stdout",
     "output_type": "stream",
     "text": [
      "Pandas(Index=0, junction_id='22_16151821_16162397', offset=7, F1=0, R1=2, F2=0, R2=0)\n",
      "Pandas(Index=1, junction_id='22_16151821_16162397', offset=14, F1=0, R1=0, F2=1, R2=0)\n",
      "Pandas(Index=2, junction_id='22_16151821_16162397', offset=18, F1=0, R1=0, F2=0, R2=1)\n",
      "Pandas(Index=3, junction_id='22_16151821_16162397', offset=25, F1=0, R1=0, F2=0, R2=1)\n",
      "Pandas(Index=4, junction_id='22_16151821_16162397', offset=35, F1=1, R1=0, F2=0, R2=0)\n",
      "Pandas(Index=5, junction_id='22_16151821_16162397', offset=71, F1=0, R1=0, F2=2, R2=0)\n",
      "Pandas(Index=6, junction_id='22_16151821_16162397', offset=75, F1=1, R1=0, F2=0, R2=0)\n",
      "Pandas(Index=7, junction_id='22_16151821_16162397', offset=84, F1=0, R1=1, F2=0, R2=0)\n",
      "Pandas(Index=8, junction_id='22_16159389_16162397', offset=1, F1=0, R1=0, F2=1, R2=0)\n",
      "Pandas(Index=9, junction_id='22_16159389_16162397', offset=25, F1=1, R1=0, F2=0, R2=0)\n",
      "Pandas(Index=10, junction_id='22_16159389_16162397', offset=90, F1=0, R1=0, F2=0, R2=1)\n"
     ]
    }
   ],
   "source": [
    "i = 0\n",
    "for x in ssj.itertuples():\n",
    "    print(x)\n",
    "    i += 1\n",
    "    if i > 10:\n",
    "        break"
   ]
  },
  {
   "cell_type": "code",
   "execution_count": 19,
   "metadata": {},
   "outputs": [],
   "source": [
    "from collections import namedtuple"
   ]
  },
  {
   "cell_type": "code",
   "execution_count": 31,
   "metadata": {},
   "outputs": [],
   "source": [
    "NewRow = namedtuple(\"Pandas\", [\"junction_id\", \"offset\", \"count\"])"
   ]
  },
  {
   "cell_type": "code",
   "execution_count": 34,
   "metadata": {},
   "outputs": [],
   "source": [
    "def update_ssj(df, read_length, min_offset, stranded):\n",
    "    max_offset = read_length - min_offset\n",
    "    rows_list = []\n",
    "    i = 0\n",
    "    if stranded:\n",
    "        for row in df.itertuples():\n",
    "            if row.offset < min_offset or row.offset > max_offset:\n",
    "                continue\n",
    "            sm = row.F1 + row.R2\n",
    "            sp = row.F2 + row.R1\n",
    "            if sp > 0:\n",
    "                rows_list.append(NewRow(junction_id=row.junction_id+\"_+\", offset=row.offset, counts = sp))\n",
    "                i += 1\n",
    "            if sm > 0:\n",
    "                rows_list.append(NewRow(junction_id=row.junction_id+\"_-\", offset=row.offset, counts = sm))\n",
    "                i += 1\n",
    "    else:\n",
    "        for row in df.itertuples():\n",
    "            if row.offset < min_offset or row.offset > max_offset:\n",
    "                continue\n",
    "            s = row.F1 + row.R1 + row.F2 + row.R2\n",
    "            rows_list.append(NewRow(junction_id=row.junction_id+\"_+\", offset=row.offset, count=s))\n",
    "            i += 1\n",
    "            rows_list.append(NewRow(junction_id=row.junction_id+\"_-\", offset=row.offset, count=s))\n",
    "            i += 1\n",
    "    return pd.DataFrame(rows_list, columns=[\"junction_id\", \"offset\", \"count\"])"
   ]
  },
  {
   "cell_type": "code",
   "execution_count": 39,
   "metadata": {},
   "outputs": [],
   "source": [
    "nssj = update_ssj(ssj, read_length=101, min_offset=5, stranded=False)"
   ]
  },
  {
   "cell_type": "code",
   "execution_count": 40,
   "metadata": {},
   "outputs": [
    {
     "data": {
      "text/html": [
       "<div>\n",
       "<style scoped>\n",
       "    .dataframe tbody tr th:only-of-type {\n",
       "        vertical-align: middle;\n",
       "    }\n",
       "\n",
       "    .dataframe tbody tr th {\n",
       "        vertical-align: top;\n",
       "    }\n",
       "\n",
       "    .dataframe thead th {\n",
       "        text-align: right;\n",
       "    }\n",
       "</style>\n",
       "<table border=\"1\" class=\"dataframe\">\n",
       "  <thead>\n",
       "    <tr style=\"text-align: right;\">\n",
       "      <th></th>\n",
       "      <th>junction_id</th>\n",
       "      <th>offset</th>\n",
       "      <th>count</th>\n",
       "    </tr>\n",
       "  </thead>\n",
       "  <tbody>\n",
       "    <tr>\n",
       "      <th>0</th>\n",
       "      <td>22_16151821_16162397_+</td>\n",
       "      <td>7</td>\n",
       "      <td>2</td>\n",
       "    </tr>\n",
       "    <tr>\n",
       "      <th>1</th>\n",
       "      <td>22_16151821_16162397_-</td>\n",
       "      <td>7</td>\n",
       "      <td>2</td>\n",
       "    </tr>\n",
       "    <tr>\n",
       "      <th>2</th>\n",
       "      <td>22_16151821_16162397_+</td>\n",
       "      <td>14</td>\n",
       "      <td>1</td>\n",
       "    </tr>\n",
       "    <tr>\n",
       "      <th>3</th>\n",
       "      <td>22_16151821_16162397_-</td>\n",
       "      <td>14</td>\n",
       "      <td>1</td>\n",
       "    </tr>\n",
       "    <tr>\n",
       "      <th>4</th>\n",
       "      <td>22_16151821_16162397_+</td>\n",
       "      <td>18</td>\n",
       "      <td>1</td>\n",
       "    </tr>\n",
       "    <tr>\n",
       "      <th>...</th>\n",
       "      <td>...</td>\n",
       "      <td>...</td>\n",
       "      <td>...</td>\n",
       "    </tr>\n",
       "    <tr>\n",
       "      <th>296433</th>\n",
       "      <td>22_51227226_51227323_-</td>\n",
       "      <td>81</td>\n",
       "      <td>1</td>\n",
       "    </tr>\n",
       "    <tr>\n",
       "      <th>296434</th>\n",
       "      <td>22_51227230_51227320_+</td>\n",
       "      <td>64</td>\n",
       "      <td>1</td>\n",
       "    </tr>\n",
       "    <tr>\n",
       "      <th>296435</th>\n",
       "      <td>22_51227230_51227320_-</td>\n",
       "      <td>64</td>\n",
       "      <td>1</td>\n",
       "    </tr>\n",
       "    <tr>\n",
       "      <th>296436</th>\n",
       "      <td>22_51227230_51227320_+</td>\n",
       "      <td>87</td>\n",
       "      <td>1</td>\n",
       "    </tr>\n",
       "    <tr>\n",
       "      <th>296437</th>\n",
       "      <td>22_51227230_51227320_-</td>\n",
       "      <td>87</td>\n",
       "      <td>1</td>\n",
       "    </tr>\n",
       "  </tbody>\n",
       "</table>\n",
       "<p>296438 rows × 3 columns</p>\n",
       "</div>"
      ],
      "text/plain": [
       "                   junction_id  offset  count\n",
       "0       22_16151821_16162397_+       7      2\n",
       "1       22_16151821_16162397_-       7      2\n",
       "2       22_16151821_16162397_+      14      1\n",
       "3       22_16151821_16162397_-      14      1\n",
       "4       22_16151821_16162397_+      18      1\n",
       "...                        ...     ...    ...\n",
       "296433  22_51227226_51227323_-      81      1\n",
       "296434  22_51227230_51227320_+      64      1\n",
       "296435  22_51227230_51227320_-      64      1\n",
       "296436  22_51227230_51227320_+      87      1\n",
       "296437  22_51227230_51227320_-      87      1\n",
       "\n",
       "[296438 rows x 3 columns]"
      ]
     },
     "execution_count": 40,
     "metadata": {},
     "output_type": "execute_result"
    }
   ],
   "source": [
    "nssj"
   ]
  },
  {
   "cell_type": "code",
   "execution_count": 41,
   "metadata": {},
   "outputs": [],
   "source": [
    "import numpy as np"
   ]
  },
  {
   "cell_type": "code",
   "execution_count": 44,
   "metadata": {},
   "outputs": [],
   "source": [
    "x = np.array([25, 12, 4])"
   ]
  },
  {
   "cell_type": "code",
   "execution_count": 48,
   "metadata": {},
   "outputs": [
    {
     "data": {
      "text/plain": [
       "1.281553108202914"
      ]
     },
     "execution_count": 48,
     "metadata": {},
     "output_type": "execute_result"
    }
   ],
   "source": [
    "np.log2(x.sum()) - (np.sum(x * np.log2(x)) / x.sum())"
   ]
  },
  {
   "cell_type": "code",
   "execution_count": 49,
   "metadata": {},
   "outputs": [],
   "source": [
    "test_ssj = pd.DataFrame([\n",
    "    NewRow(\"chr1_100_200_-\", 10, 25),\n",
    "    NewRow(\"chr1_100_200_-\", 11, 12),\n",
    "    NewRow(\"chr1_100_200_-\", 15, 4)\n",
    "])"
   ]
  },
  {
   "cell_type": "code",
   "execution_count": 57,
   "metadata": {},
   "outputs": [
    {
     "data": {
      "text/html": [
       "<div>\n",
       "<style scoped>\n",
       "    .dataframe tbody tr th:only-of-type {\n",
       "        vertical-align: middle;\n",
       "    }\n",
       "\n",
       "    .dataframe tbody tr th {\n",
       "        vertical-align: top;\n",
       "    }\n",
       "\n",
       "    .dataframe thead tr th {\n",
       "        text-align: left;\n",
       "    }\n",
       "\n",
       "    .dataframe thead tr:last-of-type th {\n",
       "        text-align: right;\n",
       "    }\n",
       "</style>\n",
       "<table border=\"1\" class=\"dataframe\">\n",
       "  <thead>\n",
       "    <tr>\n",
       "      <th></th>\n",
       "      <th colspan=\"3\" halign=\"left\">count</th>\n",
       "    </tr>\n",
       "    <tr>\n",
       "      <th></th>\n",
       "      <th>sum</th>\n",
       "      <th>count</th>\n",
       "      <th>&lt;lambda_0&gt;</th>\n",
       "    </tr>\n",
       "    <tr>\n",
       "      <th>junction_id</th>\n",
       "      <th></th>\n",
       "      <th></th>\n",
       "      <th></th>\n",
       "    </tr>\n",
       "  </thead>\n",
       "  <tbody>\n",
       "    <tr>\n",
       "      <th>chr1_100_200_-</th>\n",
       "      <td>41</td>\n",
       "      <td>3</td>\n",
       "      <td>1.281553</td>\n",
       "    </tr>\n",
       "  </tbody>\n",
       "</table>\n",
       "</div>"
      ],
      "text/plain": [
       "               count                 \n",
       "                 sum count <lambda_0>\n",
       "junction_id                          \n",
       "chr1_100_200_-    41     3   1.281553"
      ]
     },
     "execution_count": 57,
     "metadata": {},
     "output_type": "execute_result"
    }
   ],
   "source": [
    "test_ssj.groupby([\"junction_id\"]).agg({\n",
    "    \"count\": [\"sum\", \"count\", lambda x: np.log2(x.sum()) - (np.sum(x * np.log2(x)) / x.sum())]\n",
    "})"
   ]
  },
  {
   "cell_type": "code",
   "execution_count": 65,
   "metadata": {},
   "outputs": [],
   "source": [
    "def aggregate_ssj(ssj):\n",
    "    agg_ssj = ssj.groupby([\"junction_id\"]).agg(\n",
    "        total_count=pd.NamedAgg(column=\"count\", aggfunc=sum),\n",
    "        staggered_count=pd.NamedAgg(column=\"count\", aggfunc=\"count\"),\n",
    "        entropy=pd.NamedAgg(column=\"count\", aggfunc=lambda x: np.log2(x.sum()) - (np.sum(x * np.log2(x)) / x.sum()))\n",
    "    )\n",
    "    return agg_ssj"
   ]
  },
  {
   "cell_type": "code",
   "execution_count": 67,
   "metadata": {},
   "outputs": [],
   "source": [
    "assj = aggregate_ssj(nssj)"
   ]
  },
  {
   "cell_type": "code",
   "execution_count": 71,
   "metadata": {},
   "outputs": [],
   "source": [
    "assj.to_csv(\"miniPCAWG.aggssj.tsv.gz\", sep=\"\\t\", header=None, compression=\"gzip\")"
   ]
  },
  {
   "cell_type": "code",
   "execution_count": 74,
   "metadata": {},
   "outputs": [
    {
     "name": "stdout",
     "output_type": "stream",
     "text": [
      "22_16151821_16162397_+\n",
      "22_16151821_16162397_-\n",
      "22_16159389_16162397_+\n",
      "22_16159389_16162397_-\n",
      "22_16162487_16186811_+\n",
      "22_16162487_16186811_-\n",
      "22_16186946_16187165_+\n",
      "22_16186946_16187165_-\n",
      "22_16187278_16189032_+\n",
      "22_16187278_16189032_-\n",
      "22_16187302_16189032_+\n"
     ]
    }
   ],
   "source": [
    "i = 0\n",
    "for x in assj.index:\n",
    "    print(x)\n",
    "    i += 1\n",
    "    if i > 10:\n",
    "        break"
   ]
  },
  {
   "cell_type": "code",
   "execution_count": 75,
   "metadata": {},
   "outputs": [],
   "source": [
    "import pysam"
   ]
  },
  {
   "cell_type": "code",
   "execution_count": 78,
   "metadata": {},
   "outputs": [],
   "source": [
    "genome = pysam.FastaFile(\"/home/leo/PycharmProjects/pyIPSA/genomes/hg19.fa\")"
   ]
  },
  {
   "cell_type": "code",
   "execution_count": 79,
   "metadata": {},
   "outputs": [
    {
     "data": {
      "text/plain": [
       "'N'"
      ]
     },
     "execution_count": 79,
     "metadata": {},
     "output_type": "execute_result"
    }
   ],
   "source": [
    "genome.fetch(\"chr22\", 11579, 11580)"
   ]
  },
  {
   "cell_type": "code",
   "execution_count": 88,
   "metadata": {},
   "outputs": [],
   "source": [
    "complement = {\"A\": \"T\", \"G\": \"C\", \"C\": \"G\", \"T\": \"A\", \"N\": \"N\"}\n",
    "nucs = []\n",
    "for junction_id in assj.index:\n",
    "    ref, start, stop, strand = junction_id.split(\"_\")\n",
    "    ref, start, stop = \"chr\" + ref, int(start), int(stop)\n",
    "    c = strand == \"-\"\n",
    "    nucleotides = genome.fetch(ref, start, start + 2) + genome.fetch(ref, stop - 3, stop - 1)\n",
    "    if c:\n",
    "        nucleotides = \"\".join(complement[n] for n in nucleotides)\n",
    "    nucs.append(nucleotides)"
   ]
  },
  {
   "cell_type": "code",
   "execution_count": 91,
   "metadata": {},
   "outputs": [],
   "source": [
    "from collections import Counter"
   ]
  },
  {
   "cell_type": "code",
   "execution_count": 93,
   "metadata": {},
   "outputs": [],
   "source": [
    "assj[\"splice_sites\"] = nucs"
   ]
  },
  {
   "cell_type": "code",
   "execution_count": 94,
   "metadata": {},
   "outputs": [
    {
     "data": {
      "text/html": [
       "<div>\n",
       "<style scoped>\n",
       "    .dataframe tbody tr th:only-of-type {\n",
       "        vertical-align: middle;\n",
       "    }\n",
       "\n",
       "    .dataframe tbody tr th {\n",
       "        vertical-align: top;\n",
       "    }\n",
       "\n",
       "    .dataframe thead th {\n",
       "        text-align: right;\n",
       "    }\n",
       "</style>\n",
       "<table border=\"1\" class=\"dataframe\">\n",
       "  <thead>\n",
       "    <tr style=\"text-align: right;\">\n",
       "      <th></th>\n",
       "      <th>total_count</th>\n",
       "      <th>staggered_count</th>\n",
       "      <th>entropy</th>\n",
       "      <th>splice_sites</th>\n",
       "    </tr>\n",
       "    <tr>\n",
       "      <th>junction_id</th>\n",
       "      <th></th>\n",
       "      <th></th>\n",
       "      <th></th>\n",
       "      <th></th>\n",
       "    </tr>\n",
       "  </thead>\n",
       "  <tbody>\n",
       "    <tr>\n",
       "      <th>22_16151821_16162397_+</th>\n",
       "      <td>10</td>\n",
       "      <td>8</td>\n",
       "      <td>2.921928</td>\n",
       "      <td>CTAC</td>\n",
       "    </tr>\n",
       "    <tr>\n",
       "      <th>22_16151821_16162397_-</th>\n",
       "      <td>10</td>\n",
       "      <td>8</td>\n",
       "      <td>2.921928</td>\n",
       "      <td>GATG</td>\n",
       "    </tr>\n",
       "    <tr>\n",
       "      <th>22_16159389_16162397_+</th>\n",
       "      <td>2</td>\n",
       "      <td>2</td>\n",
       "      <td>1.000000</td>\n",
       "      <td>CTAC</td>\n",
       "    </tr>\n",
       "    <tr>\n",
       "      <th>22_16159389_16162397_-</th>\n",
       "      <td>2</td>\n",
       "      <td>2</td>\n",
       "      <td>1.000000</td>\n",
       "      <td>GATG</td>\n",
       "    </tr>\n",
       "    <tr>\n",
       "      <th>22_16162487_16186811_+</th>\n",
       "      <td>9</td>\n",
       "      <td>9</td>\n",
       "      <td>3.169925</td>\n",
       "      <td>CTAC</td>\n",
       "    </tr>\n",
       "    <tr>\n",
       "      <th>...</th>\n",
       "      <td>...</td>\n",
       "      <td>...</td>\n",
       "      <td>...</td>\n",
       "      <td>...</td>\n",
       "    </tr>\n",
       "    <tr>\n",
       "      <th>22_51227226_51227320_-</th>\n",
       "      <td>2</td>\n",
       "      <td>2</td>\n",
       "      <td>1.000000</td>\n",
       "      <td>CATC</td>\n",
       "    </tr>\n",
       "    <tr>\n",
       "      <th>22_51227226_51227323_+</th>\n",
       "      <td>8</td>\n",
       "      <td>6</td>\n",
       "      <td>2.500000</td>\n",
       "      <td>GTAG</td>\n",
       "    </tr>\n",
       "    <tr>\n",
       "      <th>22_51227226_51227323_-</th>\n",
       "      <td>8</td>\n",
       "      <td>6</td>\n",
       "      <td>2.500000</td>\n",
       "      <td>CATC</td>\n",
       "    </tr>\n",
       "    <tr>\n",
       "      <th>22_51227230_51227320_+</th>\n",
       "      <td>2</td>\n",
       "      <td>2</td>\n",
       "      <td>1.000000</td>\n",
       "      <td>GTAG</td>\n",
       "    </tr>\n",
       "    <tr>\n",
       "      <th>22_51227230_51227320_-</th>\n",
       "      <td>2</td>\n",
       "      <td>2</td>\n",
       "      <td>1.000000</td>\n",
       "      <td>CATC</td>\n",
       "    </tr>\n",
       "  </tbody>\n",
       "</table>\n",
       "<p>16732 rows × 4 columns</p>\n",
       "</div>"
      ],
      "text/plain": [
       "                        total_count  staggered_count   entropy splice_sites\n",
       "junction_id                                                                \n",
       "22_16151821_16162397_+           10                8  2.921928         CTAC\n",
       "22_16151821_16162397_-           10                8  2.921928         GATG\n",
       "22_16159389_16162397_+            2                2  1.000000         CTAC\n",
       "22_16159389_16162397_-            2                2  1.000000         GATG\n",
       "22_16162487_16186811_+            9                9  3.169925         CTAC\n",
       "...                             ...              ...       ...          ...\n",
       "22_51227226_51227320_-            2                2  1.000000         CATC\n",
       "22_51227226_51227323_+            8                6  2.500000         GTAG\n",
       "22_51227226_51227323_-            8                6  2.500000         CATC\n",
       "22_51227230_51227320_+            2                2  1.000000         GTAG\n",
       "22_51227230_51227320_-            2                2  1.000000         CATC\n",
       "\n",
       "[16732 rows x 4 columns]"
      ]
     },
     "execution_count": 94,
     "metadata": {},
     "output_type": "execute_result"
    }
   ],
   "source": [
    "assj"
   ]
  }
 ],
 "metadata": {
  "kernelspec": {
   "display_name": "Python 3",
   "language": "python",
   "name": "python3"
  },
  "language_info": {
   "codemirror_mode": {
    "name": "ipython",
    "version": 3
   },
   "file_extension": ".py",
   "mimetype": "text/x-python",
   "name": "python",
   "nbconvert_exporter": "python",
   "pygments_lexer": "ipython3",
   "version": "3.7.9"
  }
 },
 "nbformat": 4,
 "nbformat_minor": 4
}
