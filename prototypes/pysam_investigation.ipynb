{
 "cells": [
  {
   "cell_type": "code",
   "execution_count": 1,
   "metadata": {},
   "outputs": [],
   "source": [
    "import pysam"
   ]
  },
  {
   "cell_type": "code",
   "execution_count": 2,
   "metadata": {},
   "outputs": [],
   "source": [
    "THREADS = 24"
   ]
  },
  {
   "cell_type": "markdown",
   "metadata": {},
   "source": [
    "### Introduction"
   ]
  },
  {
   "cell_type": "code",
   "execution_count": 3,
   "metadata": {},
   "outputs": [],
   "source": [
    "samfile = pysam.AlignmentFile('test_data/pcawg_subset.bam', 'rb', threads=THREADS)"
   ]
  },
  {
   "cell_type": "code",
   "execution_count": 4,
   "metadata": {},
   "outputs": [
    {
     "name": "stdout",
     "output_type": "stream",
     "text": [
      "HWI-ST672:204:D1HPJACXX:6:2205:8048:110927\t163\t0\t14601\t255\t76M25S\t0\t14682\t76\tCAAGGAAGTAGGTCTGAGCAGCTTGTCCTGGCTGTGTGCATGTCAGAGGAAAGGGCCAAAACTGGGGGTGGGGGGGGGGGGGGGGGGGGGGCGGCGGGCGC\tarray('B', [33, 34, 34, 37, 37, 37, 37, 37, 34, 37, 39, 39, 27, 37, 39, 40, 40, 41, 40, 41, 40, 38, 39, 40, 41, 38, 40, 40, 36, 39, 41, 41, 40, 41, 39, 38, 34, 2, 2, 2, 2, 2, 2, 2, 2, 2, 2, 2, 2, 2, 2, 2, 2, 2, 2, 2, 2, 2, 2, 2, 2, 2, 2, 2, 2, 2, 2, 2, 2, 2, 2, 2, 2, 2, 2, 2, 2, 2, 2, 2, 2, 2, 2, 2, 2, 2, 2, 2, 2, 2, 2, 2, 2, 2, 2, 2, 2, 2, 2, 2, 2])\t[('NH', 1), ('HI', 1), ('NM', 8), ('MD', '37C10C2C2C4G0T5T0C8'), ('AS', 159), ('RG', 'RIKEN:63a26562-e1fb-11e4-9899-a52c75ff8f68:icgc_rna_RNA_RK054_liver_20120731_01')]\n",
      "HWI-ST672:204:D1HPJACXX:6:2205:8048:110927\t83\t0\t14682\t255\t101M\t0\t14601\t101\tGTCATGGAGCCCCCTACGATTCCCAGTCGTCCTCGTCCTCCTCTGCCTGTGGCTGCTGCGGTGGCGGCAGAGGAGGGATGGAGTCTGACACGCGGGCAAAG\tarray('B', [2, 2, 2, 34, 32, 35, 32, 31, 35, 35, 35, 35, 35, 33, 32, 32, 35, 35, 35, 34, 32, 33, 35, 33, 31, 33, 31, 33, 33, 35, 35, 35, 35, 35, 32, 27, 35, 35, 35, 35, 35, 35, 35, 35, 35, 35, 36, 36, 37, 37, 37, 37, 37, 39, 39, 39, 36, 38, 38, 40, 40, 40, 40, 40, 37, 40, 40, 38, 38, 38, 38, 41, 41, 40, 41, 41, 40, 41, 40, 41, 41, 40, 40, 38, 41, 40, 41, 39, 35, 37, 39, 38, 39, 35, 37, 35, 35, 32, 16, 31, 33])\t[('NH', 1), ('HI', 1), ('NM', 0), ('MD', '101'), ('AS', 159), ('RG', 'RIKEN:63a26562-e1fb-11e4-9899-a52c75ff8f68:icgc_rna_RNA_RK054_liver_20120731_01')]\n",
      "HWI-ST672:204:D1HPJACXX:6:2308:4262:87013\t355\t0\t14702\t3\t3S98M\t0\t14765\t98\tGTGTCCCAGTCGTCCTCGTCCTCCTCTGCCTGTGGCTGCTGCGGTGGCGGCAGAGGAGGGATGGAGTCTGACACGCGGGCAAAGGCTCCTCCGGGCCCCTC\tarray('B', [28, 25, 16, 19, 19, 32, 35, 35, 37, 37, 37, 37, 33, 37, 37, 40, 40, 40, 37, 37, 40, 40, 40, 40, 40, 40, 40, 40, 40, 40, 40, 40, 37, 38, 32, 37, 37, 37, 40, 37, 37, 37, 37, 37, 12, 31, 37, 37, 33, 36, 35, 27, 24, 20, 28, 33, 33, 33, 33, 33, 33, 31, 31, 33, 33, 30, 29, 29, 32, 33, 29, 29, 32, 33, 29, 33, 20, 27, 29, 31, 33, 22, 30, 30, 27, 30, 31, 27, 33, 30, 33, 33, 31, 18, 24, 24, 31, 31, 33, 23, 24])\t[('NH', 2), ('HI', 2), ('NM', 0), ('MD', '98'), ('AS', 199), ('XS', '-'), ('RG', 'RIKEN:63a26562-e1fb-11e4-9899-a52c75ff8f68:icgc_rna_RNA_RK054_liver_20120731_01')]\n",
      "HWI-ST672:204:D1HPJACXX:6:1106:19494:193291\t99\t0\t14716\t255\t101M\t0\t15025\t101\tGTCCTCCTCTGCCTGTGGCTGCTGCGGTGGCGGCAGAGGAGGGATGGAGTCTGACACGCGGGCAAAGGCTCCTCCGGGCCCCTCACCAGCCCCAGGTCCTT\tarray('B', [31, 31, 30, 35, 37, 37, 37, 37, 39, 39, 33, 35, 39, 40, 38, 39, 40, 40, 40, 41, 40, 41, 36, 40, 38, 36, 39, 32, 35, 39, 38, 38, 40, 38, 33, 39, 35, 39, 38, 27, 36, 39, 37, 24, 26, 30, 34, 31, 31, 26, 26, 29, 29, 34, 35, 31, 34, 33, 33, 33, 26, 26, 18, 26, 33, 16, 24, 27, 27, 31, 32, 33, 24, 34, 34, 24, 27, 31, 33, 29, 31, 35, 16, 15, 10, 23, 32, 31, 32, 30, 23, 30, 33, 22, 7, 23, 19, 29, 34, 18, 29])\t[('NH', 1), ('HI', 1), ('NM', 0), ('MD', '101'), ('AS', 201), ('XS', '-'), ('RG', 'RIKEN:63a26562-e1fb-11e4-9899-a52c75ff8f68:icgc_rna_RNA_RK054_liver_20120731_01')]\n",
      "HWI-ST672:204:D1HPJACXX:6:1302:15930:4256\t355\t0\t14724\t3\t101M\t0\t14764\t101\tCTGCCTGTGGCTGCTGCGGTGGCGGCAGAGGAGGGATGGAGTCTGACACGCGGGGAAAGGCTCCTCCGGGCCCCTCACCACCCCCAGGTCCTTTCCCAGAG\tarray('B', [31, 31, 31, 35, 35, 35, 35, 35, 33, 37, 37, 37, 37, 37, 27, 37, 35, 37, 32, 27, 34, 37, 37, 32, 37, 40, 37, 37, 26, 28, 37, 7, 26, 23, 31, 6, 13, 26, 36, 24, 26, 30, 33, 35, 31, 31, 32, 29, 18, 29, 33, 23, 17, 25, 5, 15, 20, 30, 15, 23, 23, 31, 27, 27, 32, 30, 33, 22, 22, 24, 20, 29, 33, 29, 23, 20, 17, 30, 31, 32, 2, 2, 2, 2, 2, 2, 2, 2, 2, 2, 2, 2, 2, 2, 2, 2, 2, 2, 2, 2, 2])\t[('NH', 2), ('HI', 2), ('NM', 2), ('MD', '54C25G20'), ('AS', 198), ('XS', '-'), ('RG', 'RIKEN:63a26562-e1fb-11e4-9899-a52c75ff8f68:icgc_rna_RNA_RK054_liver_20120731_01')]\n",
      "HWI-ST672:204:D1HPJACXX:6:1302:15930:4256\t403\t0\t14764\t3\t65M140N36M\t0\t14724\t101\tGTCTGACACGCGGGCAAAGGCTCCTCCGGGCCCCTCACCAGCCCCAGGTCCTTTCCCAGAGATGCCCTTGCGCCTCATGACCAGCTTGTTGAAGAGATCCG\tarray('B', [2, 2, 2, 2, 2, 2, 2, 2, 2, 2, 2, 2, 2, 2, 2, 2, 2, 2, 2, 2, 2, 2, 2, 2, 2, 2, 2, 2, 30, 23, 28, 16, 30, 26, 26, 28, 21, 23, 32, 32, 35, 33, 32, 29, 29, 36, 38, 36, 32, 34, 37, 37, 31, 28, 28, 37, 34, 39, 36, 29, 32, 37, 28, 34, 33, 35, 31, 39, 40, 38, 33, 38, 38, 35, 38, 39, 29, 39, 32, 40, 38, 40, 36, 39, 37, 30, 40, 36, 39, 39, 37, 33, 33, 35, 37, 35, 35, 37, 31, 27, 33])\t[('NH', 2), ('HI', 2), ('NM', 0), ('MD', '101'), ('AS', 198), ('XS', '-'), ('RG', 'RIKEN:63a26562-e1fb-11e4-9899-a52c75ff8f68:icgc_rna_RNA_RK054_liver_20120731_01')]\n",
      "HWI-ST672:204:D1HPJACXX:6:2308:4262:87013\t403\t0\t14765\t3\t64M140N37M\t0\t14702\t101\tTCTGACACGCGGGCAAAGGCTCCTCCGGGCCCCTCACCAGCCCCAGGTCCTTTCCCAGAGATGCCCTTGCGCCTCATGACCAGCTTGTTGAAGAGATCCGA\tarray('B', [29, 34, 34, 33, 33, 33, 31, 33, 29, 31, 34, 34, 34, 32, 31, 35, 35, 33, 32, 30, 31, 31, 35, 33, 35, 35, 35, 33, 35, 33, 35, 35, 33, 31, 28, 20, 33, 29, 29, 37, 35, 33, 39, 38, 39, 39, 41, 40, 39, 33, 40, 41, 40, 39, 35, 35, 38, 38, 36, 40, 40, 39, 39, 35, 38, 40, 40, 38, 39, 35, 16, 35, 40, 41, 41, 40, 40, 40, 38, 40, 39, 37, 37, 30, 31, 34, 27, 38, 37, 39, 38, 37, 39, 37, 35, 37, 32, 37, 31, 34, 31])\t[('NH', 2), ('HI', 2), ('NM', 0), ('MD', '101'), ('AS', 199), ('XS', '-'), ('RG', 'RIKEN:63a26562-e1fb-11e4-9899-a52c75ff8f68:icgc_rna_RNA_RK054_liver_20120731_01')]\n"
     ]
    }
   ],
   "source": [
    "for read in samfile.fetch('1', 1, 15000):\n",
    "    print(read)"
   ]
  },
  {
   "cell_type": "code",
   "execution_count": 5,
   "metadata": {},
   "outputs": [],
   "source": [
    "paired_pcawg_subset = pysam.AlignmentFile('test_data/paired_pcawg_subset.bam', 'wb',\n",
    "                                          template=samfile, threads=THREADS)"
   ]
  },
  {
   "cell_type": "code",
   "execution_count": 6,
   "metadata": {},
   "outputs": [],
   "source": [
    "for read in samfile.fetch():\n",
    "    if read.is_paired:\n",
    "        paired_pcawg_subset.write(read)\n",
    "        \n",
    "paired_pcawg_subset.close()"
   ]
  },
  {
   "cell_type": "code",
   "execution_count": 7,
   "metadata": {},
   "outputs": [
    {
     "name": "stdout",
     "output_type": "stream",
     "text": [
      "\n",
      "coverage at base 14601 = 1\n",
      "\tbase in read HWI-ST672:204:D1HPJACXX:6:2205:8048:110927 = C\n",
      "\n",
      "coverage at base 14602 = 1\n",
      "\tbase in read HWI-ST672:204:D1HPJACXX:6:2205:8048:110927 = A\n",
      "\n",
      "coverage at base 14603 = 1\n",
      "\tbase in read HWI-ST672:204:D1HPJACXX:6:2205:8048:110927 = A\n",
      "\n",
      "coverage at base 14604 = 1\n",
      "\tbase in read HWI-ST672:204:D1HPJACXX:6:2205:8048:110927 = G\n",
      "\n",
      "coverage at base 14605 = 1\n",
      "\tbase in read HWI-ST672:204:D1HPJACXX:6:2205:8048:110927 = G\n",
      "\n",
      "coverage at base 14606 = 1\n",
      "\tbase in read HWI-ST672:204:D1HPJACXX:6:2205:8048:110927 = A\n",
      "\n",
      "coverage at base 14607 = 1\n",
      "\tbase in read HWI-ST672:204:D1HPJACXX:6:2205:8048:110927 = A\n",
      "\n",
      "coverage at base 14608 = 1\n",
      "\tbase in read HWI-ST672:204:D1HPJACXX:6:2205:8048:110927 = G\n",
      "\n",
      "coverage at base 14609 = 1\n",
      "\tbase in read HWI-ST672:204:D1HPJACXX:6:2205:8048:110927 = T\n",
      "\n",
      "coverage at base 14610 = 1\n",
      "\tbase in read HWI-ST672:204:D1HPJACXX:6:2205:8048:110927 = A\n",
      "\n",
      "coverage at base 14611 = 1\n",
      "\tbase in read HWI-ST672:204:D1HPJACXX:6:2205:8048:110927 = G\n",
      "\n",
      "coverage at base 14612 = 1\n",
      "\tbase in read HWI-ST672:204:D1HPJACXX:6:2205:8048:110927 = G\n",
      "\n",
      "coverage at base 14613 = 1\n",
      "\tbase in read HWI-ST672:204:D1HPJACXX:6:2205:8048:110927 = T\n",
      "\n",
      "coverage at base 14614 = 1\n",
      "\tbase in read HWI-ST672:204:D1HPJACXX:6:2205:8048:110927 = C\n",
      "\n",
      "coverage at base 14615 = 1\n",
      "\tbase in read HWI-ST672:204:D1HPJACXX:6:2205:8048:110927 = T\n",
      "\n",
      "coverage at base 14616 = 1\n",
      "\tbase in read HWI-ST672:204:D1HPJACXX:6:2205:8048:110927 = G\n",
      "\n",
      "coverage at base 14617 = 1\n",
      "\tbase in read HWI-ST672:204:D1HPJACXX:6:2205:8048:110927 = A\n",
      "\n",
      "coverage at base 14618 = 1\n",
      "\tbase in read HWI-ST672:204:D1HPJACXX:6:2205:8048:110927 = G\n",
      "\n",
      "coverage at base 14619 = 1\n",
      "\tbase in read HWI-ST672:204:D1HPJACXX:6:2205:8048:110927 = C\n",
      "\n",
      "coverage at base 14620 = 1\n",
      "\tbase in read HWI-ST672:204:D1HPJACXX:6:2205:8048:110927 = A\n",
      "\n",
      "coverage at base 14621 = 1\n",
      "\tbase in read HWI-ST672:204:D1HPJACXX:6:2205:8048:110927 = G\n",
      "\n",
      "coverage at base 14622 = 1\n",
      "\tbase in read HWI-ST672:204:D1HPJACXX:6:2205:8048:110927 = C\n",
      "\n",
      "coverage at base 14623 = 1\n",
      "\tbase in read HWI-ST672:204:D1HPJACXX:6:2205:8048:110927 = T\n",
      "\n",
      "coverage at base 14624 = 1\n",
      "\tbase in read HWI-ST672:204:D1HPJACXX:6:2205:8048:110927 = T\n",
      "\n",
      "coverage at base 14625 = 1\n",
      "\tbase in read HWI-ST672:204:D1HPJACXX:6:2205:8048:110927 = G\n",
      "\n",
      "coverage at base 14626 = 1\n",
      "\tbase in read HWI-ST672:204:D1HPJACXX:6:2205:8048:110927 = T\n",
      "\n",
      "coverage at base 14627 = 1\n",
      "\tbase in read HWI-ST672:204:D1HPJACXX:6:2205:8048:110927 = C\n",
      "\n",
      "coverage at base 14628 = 1\n",
      "\tbase in read HWI-ST672:204:D1HPJACXX:6:2205:8048:110927 = C\n",
      "\n",
      "coverage at base 14629 = 1\n",
      "\tbase in read HWI-ST672:204:D1HPJACXX:6:2205:8048:110927 = T\n",
      "\n",
      "coverage at base 14630 = 1\n",
      "\tbase in read HWI-ST672:204:D1HPJACXX:6:2205:8048:110927 = G\n",
      "\n",
      "coverage at base 14631 = 1\n",
      "\tbase in read HWI-ST672:204:D1HPJACXX:6:2205:8048:110927 = G\n",
      "\n",
      "coverage at base 14632 = 1\n",
      "\tbase in read HWI-ST672:204:D1HPJACXX:6:2205:8048:110927 = C\n",
      "\n",
      "coverage at base 14633 = 1\n",
      "\tbase in read HWI-ST672:204:D1HPJACXX:6:2205:8048:110927 = T\n",
      "\n",
      "coverage at base 14634 = 1\n",
      "\tbase in read HWI-ST672:204:D1HPJACXX:6:2205:8048:110927 = G\n",
      "\n",
      "coverage at base 14635 = 1\n",
      "\tbase in read HWI-ST672:204:D1HPJACXX:6:2205:8048:110927 = T\n",
      "\n",
      "coverage at base 14636 = 1\n",
      "\tbase in read HWI-ST672:204:D1HPJACXX:6:2205:8048:110927 = G\n",
      "\n",
      "coverage at base 14637 = 1\n",
      "\tbase in read HWI-ST672:204:D1HPJACXX:6:2205:8048:110927 = T\n",
      "\n",
      "coverage at base 14638 = 1\n",
      "\n",
      "coverage at base 14639 = 1\n",
      "\n",
      "coverage at base 14640 = 1\n",
      "\n",
      "coverage at base 14641 = 1\n",
      "\n",
      "coverage at base 14642 = 1\n",
      "\n",
      "coverage at base 14643 = 1\n",
      "\n",
      "coverage at base 14644 = 1\n",
      "\n",
      "coverage at base 14645 = 1\n",
      "\n",
      "coverage at base 14646 = 1\n",
      "\n",
      "coverage at base 14647 = 1\n",
      "\n",
      "coverage at base 14648 = 1\n",
      "\n",
      "coverage at base 14649 = 1\n",
      "\n",
      "coverage at base 14650 = 1\n",
      "\n",
      "coverage at base 14651 = 1\n",
      "\n",
      "coverage at base 14652 = 1\n",
      "\n",
      "coverage at base 14653 = 1\n",
      "\n",
      "coverage at base 14654 = 1\n",
      "\n",
      "coverage at base 14655 = 1\n",
      "\n",
      "coverage at base 14656 = 1\n",
      "\n",
      "coverage at base 14657 = 1\n",
      "\n",
      "coverage at base 14658 = 1\n",
      "\n",
      "coverage at base 14659 = 1\n",
      "\n",
      "coverage at base 14660 = 1\n",
      "\n",
      "coverage at base 14661 = 1\n",
      "\n",
      "coverage at base 14662 = 1\n",
      "\n",
      "coverage at base 14663 = 1\n",
      "\n",
      "coverage at base 14664 = 1\n",
      "\n",
      "coverage at base 14665 = 1\n",
      "\n",
      "coverage at base 14666 = 1\n",
      "\n",
      "coverage at base 14667 = 1\n",
      "\n",
      "coverage at base 14668 = 1\n",
      "\n",
      "coverage at base 14669 = 1\n",
      "\n",
      "coverage at base 14670 = 1\n",
      "\n",
      "coverage at base 14671 = 1\n",
      "\n",
      "coverage at base 14672 = 1\n",
      "\n",
      "coverage at base 14673 = 1\n",
      "\n",
      "coverage at base 14674 = 1\n",
      "\n",
      "coverage at base 14675 = 1\n",
      "\n",
      "coverage at base 14676 = 1\n"
     ]
    }
   ],
   "source": [
    "for pileupcolumn in samfile.pileup('1', 14600, 14610):\n",
    "    print(f'\\ncoverage at base {pileupcolumn.pos} = {pileupcolumn.n}')\n",
    "    for pileupread in pileupcolumn.pileups:\n",
    "        if not pileupread.is_del and not pileupread.is_refskip:\n",
    "            # query position is None if is_del or is_refskip is set\n",
    "            print (f'\\tbase in read {pileupread.alignment.query_name} = {pileupread.alignment.query_sequence[pileupread.query_position]}')"
   ]
  },
  {
   "cell_type": "markdown",
   "metadata": {},
   "source": [
    "### Creating BAM/CRAM/SAM files from scratch"
   ]
  },
  {
   "cell_type": "code",
   "execution_count": 7,
   "metadata": {},
   "outputs": [],
   "source": [
    "header = {\n",
    "    'HD': {'VN': '1.0'},\n",
    "    'SQ': [\n",
    "        {'LN': 1575, 'SN': 'chr1'},\n",
    "        {'LN': 1584, 'SN': 'chr2'}\n",
    "    ]\n",
    "}"
   ]
  },
  {
   "cell_type": "code",
   "execution_count": 8,
   "metadata": {},
   "outputs": [],
   "source": [
    "with pysam.AlignmentFile('test_data/from_scratch.bam', 'wb', header=header) as outf:\n",
    "    a = pysam.AlignedSegment()\n",
    "    a.query_name = 'read_28833_29006_6945'\n",
    "    a.query_sequence = 'AGCTTAGCTAGCTACCTATATCTTGGTCTTGGCCG'\n",
    "    a.flag = 99\n",
    "    a.reference_id = 0\n",
    "    a.reference_start = 32\n",
    "    a.mapping_quality = 20\n",
    "    a.cigar = ((0, 10), (2, 1), (0, 25))\n",
    "    a.next_reference_id = 0\n",
    "    a.next_reference_start = 199\n",
    "    a.template_length = 167\n",
    "    a.query_qualities = pysam.qualitystring_to_array('<<<<<<<<<<<<<<<<<<<<<:<9/,&,22;;<<<')\n",
    "    a.tags = (('NM', 1), ('RG', 'L1'))\n",
    "    outf.write(a)"
   ]
  },
  {
   "cell_type": "markdown",
   "metadata": {},
   "source": [
    "### Using samtools commands within python"
   ]
  },
  {
   "cell_type": "code",
   "execution_count": 9,
   "metadata": {},
   "outputs": [
    {
     "data": {
      "text/plain": [
       "''"
      ]
     },
     "execution_count": 9,
     "metadata": {},
     "output_type": "execute_result"
    }
   ],
   "source": [
    "pysam.sort('-o', 'test_data/pcawg_subset.sorted.bam', 'test_data/pcawg_subset.bam')"
   ]
  },
  {
   "cell_type": "code",
   "execution_count": 10,
   "metadata": {},
   "outputs": [
    {
     "data": {
      "text/plain": [
       "'samtools sort: failed to read header from \"-\"\\n'"
      ]
     },
     "execution_count": 10,
     "metadata": {},
     "output_type": "execute_result"
    }
   ],
   "source": [
    "pysam.sort.usage()"
   ]
  },
  {
   "cell_type": "code",
   "execution_count": 11,
   "metadata": {},
   "outputs": [
    {
     "data": {
      "text/plain": [
       "''"
      ]
     },
     "execution_count": 11,
     "metadata": {},
     "output_type": "execute_result"
    }
   ],
   "source": [
    "pysam.sort.get_messages()"
   ]
  },
  {
   "cell_type": "markdown",
   "metadata": {},
   "source": [
    "# API"
   ]
  },
  {
   "cell_type": "markdown",
   "metadata": {},
   "source": [
    "### AlignmentFile"
   ]
  },
  {
   "cell_type": "code",
   "execution_count": 12,
   "metadata": {},
   "outputs": [],
   "source": [
    "samfile = pysam.AlignmentFile('test_data/pcawg_subset.bam', 'rb', threads=THREADS)"
   ]
  },
  {
   "cell_type": "code",
   "execution_count": 13,
   "metadata": {},
   "outputs": [
    {
     "data": {
      "text/plain": [
       "True"
      ]
     },
     "execution_count": 13,
     "metadata": {},
     "output_type": "execute_result"
    }
   ],
   "source": [
    "samfile.check_index()"
   ]
  },
  {
   "cell_type": "code",
   "execution_count": 14,
   "metadata": {},
   "outputs": [
    {
     "data": {
      "text/plain": [
       "13742"
      ]
     },
     "execution_count": 14,
     "metadata": {},
     "output_type": "execute_result"
    }
   ],
   "source": [
    "samfile.count(contig='22')"
   ]
  },
  {
   "cell_type": "code",
   "execution_count": 15,
   "metadata": {},
   "outputs": [
    {
     "data": {
      "text/plain": [
       "(array('L', [0, 0, 0, 0, 0, 0, 0, 0, 0, 0, 0, 0, 0, 0, 0, 0, 0, 0, 0, 0, 0, 0, 0, 0, 0, 0, 0, 0, 0, 0, 0, 0, 0, 0, 0, 0, 0, 0, 0, 0, 0, 0, 0, 0, 0, 0, 0, 0, 0, 0, 0, 0, 0, 0, 0, 0, 0, 0, 0, 0, 0, 0, 0, 0, 0, 0, 0, 0, 0, 0, 0, 0, 0, 0, 0, 0, 0, 0, 0, 0, 0, 0, 0, 0, 0, 0, 0, 0, 0, 0, 0, 0, 0, 0, 0, 0, 0, 0, 0, 0, 0, 0, 1, 1, 0, 0, 1, 1, 0, 0, 1, 0, 0, 0, 0, 0, 0, 1, 0, 0, 1, 0, 0, 0, 0, 0, 0, 0, 0, 0, 0, 0, 0, 0, 0, 0, 0, 0, 0, 0, 0, 0, 0, 0, 0, 0, 0, 0, 0, 0, 0, 0, 0, 0, 0, 0, 0, 0, 0, 0, 0, 0, 0, 0, 0, 0, 0, 0, 0, 0, 0, 0, 0, 0, 0, 0, 0, 0, 0, 0, 0, 0, 0, 0, 0, 1, 0, 0, 0, 1, 0, 0, 0, 0, 0, 0, 0, 1, 0, 0, 1, 0, 0, 0, 0, 0, 1, 0, 0, 0, 0, 0, 0, 0, 0, 0, 0, 0, 0, 0, 0, 0, 0, 0, 0, 0, 0, 0, 0, 0, 0, 0, 0, 0, 0, 0, 0, 0, 0, 0, 0, 0, 0, 0, 0, 0, 0, 0, 0, 0, 2, 0, 2, 0, 0, 2, 0, 0, 0, 2, 0, 0, 0, 2, 0, 0, 0, 0, 0, 2, 0, 2, 0, 0, 0, 0, 0, 0, 0, 2, 2, 2, 0, 0, 0, 0, 0, 0, 0, 0, 0, 0, 0, 0, 0, 0, 0, 0, 0, 0, 0, 0, 0, 1, 0, 0, 0, 0, 0, 1, 0, 0, 0, 0, 0, 0, 0, 0, 0, 0, 0, 0, 0, 0, 0, 0, 0, 0, 0, 0, 0, 0, 0, 0, 0, 0, 0, 0, 0, 0, 0, 0, 0, 0, 0, 0, 0, 0, 0, 0, 0, 0, 0, 0, 0, 0, 0, 0, 0, 0, 0, 0, 0, 0, 0, 0, 0, 0, 0, 0, 0, 0, 0, 0, 0, 0, 0, 0, 0, 0, 0, 0, 0, 0, 0, 0, 0, 0, 0, 0, 0, 0, 0, 0, 0, 0, 0, 0, 0, 0, 0, 0, 0, 0, 0, 0, 0, 0, 0, 0, 0, 0, 0, 0, 0, 0, 0, 0, 0, 0, 0, 0, 0, 0, 0, 0, 0, 0, 0, 0, 0, 0, 0, 0, 0, 0, 0, 0, 0, 0, 0, 0, 0, 0, 0, 0, 0, 0, 0, 0, 0, 0, 0, 0, 0, 0, 0, 0, 0, 0, 0, 0, 0, 0, 0, 0, 0, 0, 0, 0, 0, 0, 0, 0, 0, 0, 0, 0, 0, 0, 0, 0, 0, 0, 0, 0, 0, 0, 0, 0, 0, 0, 0, 0, 0, 0, 0, 0, 0, 0]),\n",
       " array('L', [0, 0, 0, 0, 0, 0, 0, 0, 0, 0, 0, 0, 0, 0, 0, 0, 0, 0, 0, 0, 0, 0, 0, 0, 0, 0, 0, 0, 0, 0, 0, 0, 0, 0, 0, 0, 0, 0, 0, 0, 0, 0, 0, 0, 0, 0, 0, 0, 0, 0, 0, 0, 0, 0, 0, 0, 0, 0, 0, 0, 0, 0, 0, 0, 0, 0, 0, 0, 0, 0, 0, 0, 0, 0, 0, 0, 0, 0, 0, 0, 0, 0, 0, 0, 0, 0, 0, 0, 0, 0, 0, 0, 0, 0, 0, 0, 0, 0, 0, 0, 0, 1, 0, 0, 0, 0, 0, 0, 0, 0, 0, 0, 0, 0, 1, 0, 0, 0, 0, 1, 0, 0, 1, 0, 0, 0, 0, 1, 1, 0, 0, 0, 1, 0, 0, 0, 0, 0, 0, 0, 0, 0, 0, 0, 0, 0, 0, 0, 0, 0, 0, 0, 0, 0, 0, 0, 0, 0, 0, 0, 0, 0, 0, 0, 0, 0, 0, 0, 0, 0, 0, 0, 0, 0, 0, 0, 0, 0, 0, 0, 0, 0, 0, 0, 0, 0, 0, 0, 0, 0, 0, 1, 1, 1, 1, 1, 0, 0, 1, 0, 0, 0, 0, 1, 1, 1, 0, 0, 0, 1, 0, 0, 1, 1, 0, 1, 0, 0, 2, 2, 0, 2, 2, 0, 2, 0, 0, 2, 2, 0, 0, 0, 0, 0, 2, 0, 0, 2, 0, 0, 2, 0, 0, 0, 0, 0, 2, 0, 0, 2, 0, 0, 0, 0, 0, 0, 0, 0, 0, 0, 0, 0, 0, 0, 0, 0, 2, 0, 0, 0, 2, 0, 2, 0, 2, 0, 0, 0, 2, 0, 0, 0, 0, 0, 1, 0, 1, 1, 0, 1, 1, 0, 0, 0, 1, 1, 1, 1, 0, 1, 0, 1, 1, 0, 0, 1, 1, 1, 1, 0, 0, 0, 0, 1, 1, 0, 0, 0, 0, 0, 0, 0, 0, 0, 0, 0, 0, 0, 0, 0, 0, 0, 0, 0, 0, 0, 0, 0, 0, 0, 0, 0, 0, 0, 0, 0, 0, 0, 0, 0, 0, 0, 0, 0, 0, 0, 0, 0, 0, 0, 0, 0, 0, 0, 0, 0, 0, 0, 0, 0, 0, 0, 0, 0, 0, 0, 0, 0, 0, 0, 0, 0, 0, 0, 0, 0, 0, 0, 0, 0, 0, 0, 0, 0, 0, 0, 0, 0, 0, 0, 0, 0, 0, 0, 0, 0, 0, 0, 0, 0, 0, 0, 0, 0, 0, 0, 0, 0, 0, 0, 0, 0, 0, 0, 0, 0, 0, 0, 0, 0, 0, 0, 0, 0, 0, 0, 0, 0, 0, 0, 0, 0, 0, 0, 0, 0, 0, 0, 0, 0, 0, 0, 0, 0, 0, 0, 0, 0, 0, 0, 0, 0, 0, 0, 0, 0, 0, 0, 0, 0, 0, 0, 0, 0, 0, 0, 0, 0, 0, 0, 0, 0, 0, 0, 0, 0, 0, 0, 0, 0, 0, 0, 0, 0, 0, 0, 0, 0, 0, 0]),\n",
       " array('L', [0, 0, 0, 0, 0, 0, 0, 0, 0, 0, 0, 0, 0, 0, 0, 0, 0, 0, 0, 0, 0, 0, 0, 0, 0, 0, 0, 0, 0, 0, 0, 0, 0, 0, 0, 0, 0, 0, 0, 0, 0, 0, 0, 0, 0, 0, 0, 0, 0, 0, 0, 0, 0, 0, 0, 0, 0, 0, 0, 0, 0, 0, 0, 0, 0, 0, 0, 0, 0, 0, 0, 0, 0, 0, 0, 0, 0, 0, 0, 0, 0, 0, 0, 0, 0, 0, 0, 0, 0, 0, 0, 0, 0, 0, 0, 0, 0, 0, 0, 0, 0, 0, 0, 0, 1, 1, 0, 0, 1, 0, 0, 1, 1, 0, 0, 0, 1, 0, 1, 0, 0, 1, 0, 0, 0, 1, 0, 0, 0, 0, 1, 1, 0, 0, 1, 0, 1, 0, 0, 0, 0, 0, 0, 0, 0, 0, 0, 0, 0, 0, 0, 0, 0, 0, 0, 0, 0, 0, 0, 0, 0, 0, 0, 0, 0, 0, 0, 0, 0, 0, 0, 0, 0, 0, 0, 0, 0, 0, 0, 0, 0, 0, 0, 0, 0, 0, 0, 1, 1, 0, 1, 0, 0, 0, 0, 0, 0, 0, 0, 1, 0, 0, 0, 0, 0, 0, 0, 1, 0, 0, 1, 0, 0, 0, 0, 0, 2, 0, 0, 0, 0, 0, 0, 0, 0, 0, 2, 0, 0, 0, 2, 0, 2, 2, 0, 0, 2, 0, 0, 2, 0, 2, 2, 0, 2, 2, 0, 2, 2, 0, 0, 2, 0, 2, 2, 0, 2, 2, 2, 0, 0, 2, 2, 0, 2, 0, 0, 0, 2, 0, 0, 0, 0, 2, 0, 2, 2, 2, 0, 0, 0, 0, 2, 1, 0, 0, 0, 0, 0, 0, 0, 1, 1, 1, 0, 0, 0, 0, 0, 0, 0, 0, 0, 0, 1, 0, 0, 0, 0, 0, 0, 1, 0, 0, 0, 0, 0, 0, 0, 0, 0, 0, 0, 0, 0, 0, 0, 0, 0, 0, 0, 0, 0, 0, 0, 0, 0, 0, 0, 0, 0, 0, 0, 0, 0, 0, 0, 0, 0, 0, 0, 0, 0, 0, 0, 0, 0, 0, 0, 0, 0, 0, 0, 0, 0, 0, 0, 0, 0, 0, 0, 0, 0, 0, 0, 0, 0, 0, 0, 0, 0, 0, 0, 0, 0, 0, 0, 0, 0, 0, 0, 0, 0, 0, 0, 0, 0, 0, 0, 0, 0, 0, 0, 0, 0, 0, 0, 0, 0, 0, 0, 0, 0, 0, 0, 0, 0, 0, 0, 0, 0, 0, 0, 0, 0, 0, 0, 0, 0, 0, 0, 0, 0, 0, 0, 0, 0, 0, 0, 0, 0, 0, 0, 0, 0, 0, 0, 0, 0, 0, 0, 0, 0, 0, 0, 0, 0, 0, 0, 0, 0, 0, 0, 0, 0, 0, 0, 0, 0, 0, 0, 0, 0, 0, 0, 0, 0, 0, 0, 0, 0, 0, 0, 0, 0, 0, 0, 0, 0, 0, 0, 0, 0, 0, 0, 0, 0, 0, 0, 0]),\n",
       " array('L', [0, 0, 0, 0, 0, 0, 0, 0, 0, 0, 0, 0, 0, 0, 0, 0, 0, 0, 0, 0, 0, 0, 0, 0, 0, 0, 0, 0, 0, 0, 0, 0, 0, 0, 0, 0, 0, 0, 0, 0, 0, 0, 0, 0, 0, 0, 0, 0, 0, 0, 0, 0, 0, 0, 0, 0, 0, 0, 0, 0, 0, 0, 0, 0, 0, 0, 0, 0, 0, 0, 0, 0, 0, 0, 0, 0, 0, 0, 0, 0, 0, 0, 0, 0, 0, 0, 0, 0, 0, 0, 0, 0, 0, 0, 0, 0, 0, 0, 0, 0, 0, 0, 0, 0, 0, 0, 0, 0, 0, 1, 0, 0, 0, 1, 0, 1, 0, 0, 0, 0, 0, 0, 0, 1, 1, 0, 1, 0, 0, 1, 0, 0, 0, 1, 0, 1, 0, 1, 0, 0, 0, 0, 0, 0, 0, 0, 0, 0, 0, 0, 0, 0, 0, 0, 0, 0, 0, 0, 0, 0, 0, 0, 0, 0, 0, 0, 0, 0, 0, 0, 0, 0, 0, 0, 0, 0, 0, 0, 0, 0, 0, 0, 0, 0, 0, 0, 1, 0, 0, 0, 0, 0, 0, 0, 0, 0, 1, 0, 0, 0, 0, 1, 1, 0, 0, 0, 0, 0, 1, 0, 0, 1, 0, 0, 1, 0, 0, 2, 0, 0, 2, 0, 0, 2, 0, 2, 0, 0, 0, 2, 0, 2, 0, 0, 0, 2, 0, 0, 2, 0, 0, 0, 0, 2, 0, 0, 0, 0, 0, 0, 0, 0, 0, 0, 0, 0, 0, 0, 0, 0, 2, 0, 0, 0, 0, 2, 0, 2, 0, 0, 0, 0, 0, 0, 0, 0, 0, 0, 0, 0, 0, 0, 0, 0, 0, 1, 0, 0, 1, 0, 0, 0, 0, 0, 0, 0, 0, 0, 1, 0, 0, 0, 0, 0, 0, 0, 0, 0, 0, 0, 0, 0, 1, 0, 0, 1, 1, 0, 0, 0, 0, 0, 0, 0, 0, 0, 0, 0, 0, 0, 0, 0, 0, 0, 0, 0, 0, 0, 0, 0, 0, 0, 0, 0, 0, 0, 0, 0, 0, 0, 0, 0, 0, 0, 0, 0, 0, 0, 0, 0, 0, 0, 0, 0, 0, 0, 0, 0, 0, 0, 0, 0, 0, 0, 0, 0, 0, 0, 0, 0, 0, 0, 0, 0, 0, 0, 0, 0, 0, 0, 0, 0, 0, 0, 0, 0, 0, 0, 0, 0, 0, 0, 0, 0, 0, 0, 0, 0, 0, 0, 0, 0, 0, 0, 0, 0, 0, 0, 0, 0, 0, 0, 0, 0, 0, 0, 0, 0, 0, 0, 0, 0, 0, 0, 0, 0, 0, 0, 0, 0, 0, 0, 0, 0, 0, 0, 0, 0, 0, 0, 0, 0, 0, 0, 0, 0, 0, 0, 0, 0, 0, 0, 0, 0, 0, 0, 0, 0, 0, 0, 0, 0, 0, 0, 0, 0, 0, 0, 0, 0, 0, 0, 0, 0, 0, 0, 0, 0, 0, 0, 0, 0, 0, 0, 0, 0, 0, 0, 0, 0]))"
      ]
     },
     "execution_count": 15,
     "metadata": {},
     "output_type": "execute_result"
    }
   ],
   "source": [
    "samfile.count_coverage(contig='1', start=14500, stop=15000)"
   ]
  },
  {
   "cell_type": "code",
   "execution_count": 16,
   "metadata": {},
   "outputs": [
    {
     "data": {
      "text/plain": [
       "Counter({(14829, 14969): 2,\n",
       "         (15038, 15795): 1,\n",
       "         (17055, 17232): 1,\n",
       "         (17742, 17914): 2,\n",
       "         (158674, 164262): 1,\n",
       "         (165942, 168099): 1,\n",
       "         (168165, 169048): 1,\n",
       "         (320938, 321031): 3,\n",
       "         (324345, 324438): 1,\n",
       "         (535884, 566598): 2,\n",
       "         (535963, 566598): 2,\n",
       "         (564735, 569355): 5,\n",
       "         (564717, 569367): 6,\n",
       "         (564717, 569353): 8,\n",
       "         (565403, 569760): 2,\n",
       "         (565649, 569359): 7,\n",
       "         (565877, 569362): 13,\n",
       "         (565886, 569324): 14,\n",
       "         (566367, 567371): 1,\n",
       "         (566591, 569359): 37,\n",
       "         (566755, 567106): 17,\n",
       "         (566762, 569013): 24,\n",
       "         (567371, 569355): 11,\n",
       "         (567376, 568942): 7,\n",
       "         (567468, 569579): 5,\n",
       "         (567653, 569359): 2,\n",
       "         (567927, 567955): 4,\n",
       "         (568689, 569355): 2,\n",
       "         (569173, 569359): 5,\n",
       "         (569173, 569362): 24,\n",
       "         (569173, 569233): 14,\n",
       "         (569198, 569362): 2,\n",
       "         (569198, 569359): 3,\n",
       "         (569228, 569378): 2,\n",
       "         (569157, 569317): 10,\n",
       "         (569519, 569920): 1,\n",
       "         (665184, 665277): 2,\n",
       "         (665184, 668686): 2,\n",
       "         (665184, 672092): 2,\n",
       "         (668593, 668686): 3,\n",
       "         (668593, 672092): 3,\n",
       "         (694503, 700102): 1})"
      ]
     },
     "execution_count": 16,
     "metadata": {},
     "output_type": "execute_result"
    }
   ],
   "source": [
    "samfile.find_introns(samfile.fetch(contig='1', start=10000, stop=700000))"
   ]
  },
  {
   "cell_type": "code",
   "execution_count": 17,
   "metadata": {},
   "outputs": [
    {
     "data": {
      "text/plain": [
       "[IndexStats(contig='1', mapped=77259, unmapped=0, total=77259),\n",
       " IndexStats(contig='2', mapped=48866, unmapped=0, total=48866),\n",
       " IndexStats(contig='3', mapped=59652, unmapped=0, total=59652),\n",
       " IndexStats(contig='4', mapped=186497, unmapped=0, total=186497),\n",
       " IndexStats(contig='5', mapped=28972, unmapped=0, total=28972),\n",
       " IndexStats(contig='6', mapped=41990, unmapped=0, total=41990),\n",
       " IndexStats(contig='7', mapped=27625, unmapped=0, total=27625),\n",
       " IndexStats(contig='8', mapped=18923, unmapped=0, total=18923),\n",
       " IndexStats(contig='9', mapped=37835, unmapped=0, total=37835),\n",
       " IndexStats(contig='10', mapped=33790, unmapped=0, total=33790),\n",
       " IndexStats(contig='11', mapped=47493, unmapped=0, total=47493),\n",
       " IndexStats(contig='12', mapped=44916, unmapped=0, total=44916),\n",
       " IndexStats(contig='13', mapped=8719, unmapped=0, total=8719),\n",
       " IndexStats(contig='14', mapped=33926, unmapped=0, total=33926),\n",
       " IndexStats(contig='15', mapped=17392, unmapped=0, total=17392),\n",
       " IndexStats(contig='16', mapped=56894, unmapped=0, total=56894),\n",
       " IndexStats(contig='17', mapped=33425, unmapped=0, total=33425),\n",
       " IndexStats(contig='18', mapped=8831, unmapped=0, total=8831),\n",
       " IndexStats(contig='19', mapped=48116, unmapped=0, total=48116),\n",
       " IndexStats(contig='20', mapped=11153, unmapped=0, total=11153),\n",
       " IndexStats(contig='21', mapped=5991, unmapped=0, total=5991),\n",
       " IndexStats(contig='22', mapped=13742, unmapped=0, total=13742),\n",
       " IndexStats(contig='X', mapped=12991, unmapped=0, total=12991),\n",
       " IndexStats(contig='Y', mapped=429, unmapped=0, total=429),\n",
       " IndexStats(contig='MT', mapped=149873, unmapped=0, total=149873),\n",
       " IndexStats(contig='GL000207.1', mapped=0, unmapped=0, total=0),\n",
       " IndexStats(contig='GL000226.1', mapped=0, unmapped=0, total=0),\n",
       " IndexStats(contig='GL000229.1', mapped=0, unmapped=0, total=0),\n",
       " IndexStats(contig='GL000231.1', mapped=0, unmapped=0, total=0),\n",
       " IndexStats(contig='GL000210.1', mapped=0, unmapped=0, total=0),\n",
       " IndexStats(contig='GL000239.1', mapped=0, unmapped=0, total=0),\n",
       " IndexStats(contig='GL000235.1', mapped=0, unmapped=0, total=0),\n",
       " IndexStats(contig='GL000201.1', mapped=22, unmapped=0, total=22),\n",
       " IndexStats(contig='GL000247.1', mapped=0, unmapped=0, total=0),\n",
       " IndexStats(contig='GL000245.1', mapped=0, unmapped=0, total=0),\n",
       " IndexStats(contig='GL000197.1', mapped=0, unmapped=0, total=0),\n",
       " IndexStats(contig='GL000203.1', mapped=0, unmapped=0, total=0),\n",
       " IndexStats(contig='GL000246.1', mapped=0, unmapped=0, total=0),\n",
       " IndexStats(contig='GL000249.1', mapped=34, unmapped=0, total=34),\n",
       " IndexStats(contig='GL000196.1', mapped=0, unmapped=0, total=0),\n",
       " IndexStats(contig='GL000248.1', mapped=0, unmapped=0, total=0),\n",
       " IndexStats(contig='GL000244.1', mapped=0, unmapped=0, total=0),\n",
       " IndexStats(contig='GL000238.1', mapped=0, unmapped=0, total=0),\n",
       " IndexStats(contig='GL000202.1', mapped=0, unmapped=0, total=0),\n",
       " IndexStats(contig='GL000234.1', mapped=0, unmapped=0, total=0),\n",
       " IndexStats(contig='GL000232.1', mapped=0, unmapped=0, total=0),\n",
       " IndexStats(contig='GL000206.1', mapped=0, unmapped=0, total=0),\n",
       " IndexStats(contig='GL000240.1', mapped=0, unmapped=0, total=0),\n",
       " IndexStats(contig='GL000236.1', mapped=0, unmapped=0, total=0),\n",
       " IndexStats(contig='GL000241.1', mapped=0, unmapped=0, total=0),\n",
       " IndexStats(contig='GL000243.1', mapped=0, unmapped=0, total=0),\n",
       " IndexStats(contig='GL000242.1', mapped=4, unmapped=0, total=4),\n",
       " IndexStats(contig='GL000230.1', mapped=0, unmapped=0, total=0),\n",
       " IndexStats(contig='GL000237.1', mapped=0, unmapped=0, total=0),\n",
       " IndexStats(contig='GL000233.1', mapped=0, unmapped=0, total=0),\n",
       " IndexStats(contig='GL000204.1', mapped=0, unmapped=0, total=0),\n",
       " IndexStats(contig='GL000198.1', mapped=0, unmapped=0, total=0),\n",
       " IndexStats(contig='GL000208.1', mapped=0, unmapped=0, total=0),\n",
       " IndexStats(contig='GL000191.1', mapped=76, unmapped=0, total=76),\n",
       " IndexStats(contig='GL000227.1', mapped=2, unmapped=0, total=2),\n",
       " IndexStats(contig='GL000228.1', mapped=0, unmapped=0, total=0),\n",
       " IndexStats(contig='GL000214.1', mapped=2, unmapped=0, total=2),\n",
       " IndexStats(contig='GL000221.1', mapped=0, unmapped=0, total=0),\n",
       " IndexStats(contig='GL000209.1', mapped=0, unmapped=0, total=0),\n",
       " IndexStats(contig='GL000218.1', mapped=8, unmapped=0, total=8),\n",
       " IndexStats(contig='GL000220.1', mapped=2905, unmapped=0, total=2905),\n",
       " IndexStats(contig='GL000213.1', mapped=0, unmapped=0, total=0),\n",
       " IndexStats(contig='GL000211.1', mapped=8, unmapped=0, total=8),\n",
       " IndexStats(contig='GL000199.1', mapped=0, unmapped=0, total=0),\n",
       " IndexStats(contig='GL000217.1', mapped=2, unmapped=0, total=2),\n",
       " IndexStats(contig='GL000216.1', mapped=0, unmapped=0, total=0),\n",
       " IndexStats(contig='GL000215.1', mapped=0, unmapped=0, total=0),\n",
       " IndexStats(contig='GL000205.1', mapped=17, unmapped=0, total=17),\n",
       " IndexStats(contig='GL000219.1', mapped=41, unmapped=0, total=41),\n",
       " IndexStats(contig='GL000224.1', mapped=4, unmapped=0, total=4),\n",
       " IndexStats(contig='GL000223.1', mapped=22, unmapped=0, total=22),\n",
       " IndexStats(contig='GL000195.1', mapped=71, unmapped=0, total=71),\n",
       " IndexStats(contig='GL000212.1', mapped=0, unmapped=0, total=0),\n",
       " IndexStats(contig='GL000222.1', mapped=2, unmapped=0, total=2),\n",
       " IndexStats(contig='GL000200.1', mapped=0, unmapped=0, total=0),\n",
       " IndexStats(contig='GL000193.1', mapped=0, unmapped=0, total=0),\n",
       " IndexStats(contig='GL000194.1', mapped=16, unmapped=0, total=16),\n",
       " IndexStats(contig='GL000225.1', mapped=0, unmapped=0, total=0),\n",
       " IndexStats(contig='GL000192.1', mapped=14, unmapped=0, total=14),\n",
       " IndexStats(contig='NC_007605', mapped=0, unmapped=0, total=0),\n",
       " IndexStats(contig='hs37d5', mapped=678, unmapped=0, total=678)]"
      ]
     },
     "execution_count": 17,
     "metadata": {},
     "output_type": "execute_result"
    }
   ],
   "source": [
    "samfile.get_index_statistics()"
   ]
  },
  {
   "cell_type": "code",
   "execution_count": 18,
   "metadata": {},
   "outputs": [
    {
     "data": {
      "text/plain": [
       "249250621"
      ]
     },
     "execution_count": 18,
     "metadata": {},
     "output_type": "execute_result"
    }
   ],
   "source": [
    "samfile.get_reference_length('1')"
   ]
  },
  {
   "cell_type": "code",
   "execution_count": 19,
   "metadata": {},
   "outputs": [
    {
     "data": {
      "text/plain": [
       "'1'"
      ]
     },
     "execution_count": 19,
     "metadata": {},
     "output_type": "execute_result"
    }
   ],
   "source": [
    "samfile.get_reference_name(0)"
   ]
  },
  {
   "cell_type": "code",
   "execution_count": 20,
   "metadata": {},
   "outputs": [
    {
     "data": {
      "text/plain": [
       "0"
      ]
     },
     "execution_count": 20,
     "metadata": {},
     "output_type": "execute_result"
    }
   ],
   "source": [
    "samfile.get_tid('1')"
   ]
  },
  {
   "cell_type": "code",
   "execution_count": 21,
   "metadata": {},
   "outputs": [
    {
     "data": {
      "text/plain": [
       "True"
      ]
     },
     "execution_count": 21,
     "metadata": {},
     "output_type": "execute_result"
    }
   ],
   "source": [
    "samfile.has_index()"
   ]
  },
  {
   "cell_type": "code",
   "execution_count": 22,
   "metadata": {},
   "outputs": [
    {
     "name": "stdout",
     "output_type": "stream",
     "text": [
      "HWI-ST672:204:D1HPJACXX:6:2205:8048:110927\t163\t0\t14601\t255\t76M25S\t0\t14682\t76\tCAAGGAAGTAGGTCTGAGCAGCTTGTCCTGGCTGTGTGCATGTCAGAGGAAAGGGCCAAAACTGGGGGTGGGGGGGGGGGGGGGGGGGGGGCGGCGGGCGC\tarray('B', [33, 34, 34, 37, 37, 37, 37, 37, 34, 37, 39, 39, 27, 37, 39, 40, 40, 41, 40, 41, 40, 38, 39, 40, 41, 38, 40, 40, 36, 39, 41, 41, 40, 41, 39, 38, 34, 2, 2, 2, 2, 2, 2, 2, 2, 2, 2, 2, 2, 2, 2, 2, 2, 2, 2, 2, 2, 2, 2, 2, 2, 2, 2, 2, 2, 2, 2, 2, 2, 2, 2, 2, 2, 2, 2, 2, 2, 2, 2, 2, 2, 2, 2, 2, 2, 2, 2, 2, 2, 2, 2, 2, 2, 2, 2, 2, 2, 2, 2, 2, 2])\t[('NH', 1), ('HI', 1), ('NM', 8), ('MD', '37C10C2C2C4G0T5T0C8'), ('AS', 159), ('RG', 'RIKEN:63a26562-e1fb-11e4-9899-a52c75ff8f68:icgc_rna_RNA_RK054_liver_20120731_01')]\n",
      "HWI-ST672:204:D1HPJACXX:6:2205:8048:110927\t83\t0\t14682\t255\t101M\t0\t14601\t101\tGTCATGGAGCCCCCTACGATTCCCAGTCGTCCTCGTCCTCCTCTGCCTGTGGCTGCTGCGGTGGCGGCAGAGGAGGGATGGAGTCTGACACGCGGGCAAAG\tarray('B', [2, 2, 2, 34, 32, 35, 32, 31, 35, 35, 35, 35, 35, 33, 32, 32, 35, 35, 35, 34, 32, 33, 35, 33, 31, 33, 31, 33, 33, 35, 35, 35, 35, 35, 32, 27, 35, 35, 35, 35, 35, 35, 35, 35, 35, 35, 36, 36, 37, 37, 37, 37, 37, 39, 39, 39, 36, 38, 38, 40, 40, 40, 40, 40, 37, 40, 40, 38, 38, 38, 38, 41, 41, 40, 41, 41, 40, 41, 40, 41, 41, 40, 40, 38, 41, 40, 41, 39, 35, 37, 39, 38, 39, 35, 37, 35, 35, 32, 16, 31, 33])\t[('NH', 1), ('HI', 1), ('NM', 0), ('MD', '101'), ('AS', 159), ('RG', 'RIKEN:63a26562-e1fb-11e4-9899-a52c75ff8f68:icgc_rna_RNA_RK054_liver_20120731_01')]\n",
      "HWI-ST672:204:D1HPJACXX:6:2308:4262:87013\t355\t0\t14702\t3\t3S98M\t0\t14765\t98\tGTGTCCCAGTCGTCCTCGTCCTCCTCTGCCTGTGGCTGCTGCGGTGGCGGCAGAGGAGGGATGGAGTCTGACACGCGGGCAAAGGCTCCTCCGGGCCCCTC\tarray('B', [28, 25, 16, 19, 19, 32, 35, 35, 37, 37, 37, 37, 33, 37, 37, 40, 40, 40, 37, 37, 40, 40, 40, 40, 40, 40, 40, 40, 40, 40, 40, 40, 37, 38, 32, 37, 37, 37, 40, 37, 37, 37, 37, 37, 12, 31, 37, 37, 33, 36, 35, 27, 24, 20, 28, 33, 33, 33, 33, 33, 33, 31, 31, 33, 33, 30, 29, 29, 32, 33, 29, 29, 32, 33, 29, 33, 20, 27, 29, 31, 33, 22, 30, 30, 27, 30, 31, 27, 33, 30, 33, 33, 31, 18, 24, 24, 31, 31, 33, 23, 24])\t[('NH', 2), ('HI', 2), ('NM', 0), ('MD', '98'), ('AS', 199), ('XS', '-'), ('RG', 'RIKEN:63a26562-e1fb-11e4-9899-a52c75ff8f68:icgc_rna_RNA_RK054_liver_20120731_01')]\n",
      "HWI-ST672:204:D1HPJACXX:6:1106:19494:193291\t99\t0\t14716\t255\t101M\t0\t15025\t101\tGTCCTCCTCTGCCTGTGGCTGCTGCGGTGGCGGCAGAGGAGGGATGGAGTCTGACACGCGGGCAAAGGCTCCTCCGGGCCCCTCACCAGCCCCAGGTCCTT\tarray('B', [31, 31, 30, 35, 37, 37, 37, 37, 39, 39, 33, 35, 39, 40, 38, 39, 40, 40, 40, 41, 40, 41, 36, 40, 38, 36, 39, 32, 35, 39, 38, 38, 40, 38, 33, 39, 35, 39, 38, 27, 36, 39, 37, 24, 26, 30, 34, 31, 31, 26, 26, 29, 29, 34, 35, 31, 34, 33, 33, 33, 26, 26, 18, 26, 33, 16, 24, 27, 27, 31, 32, 33, 24, 34, 34, 24, 27, 31, 33, 29, 31, 35, 16, 15, 10, 23, 32, 31, 32, 30, 23, 30, 33, 22, 7, 23, 19, 29, 34, 18, 29])\t[('NH', 1), ('HI', 1), ('NM', 0), ('MD', '101'), ('AS', 201), ('XS', '-'), ('RG', 'RIKEN:63a26562-e1fb-11e4-9899-a52c75ff8f68:icgc_rna_RNA_RK054_liver_20120731_01')]\n",
      "HWI-ST672:204:D1HPJACXX:6:1302:15930:4256\t355\t0\t14724\t3\t101M\t0\t14764\t101\tCTGCCTGTGGCTGCTGCGGTGGCGGCAGAGGAGGGATGGAGTCTGACACGCGGGGAAAGGCTCCTCCGGGCCCCTCACCACCCCCAGGTCCTTTCCCAGAG\tarray('B', [31, 31, 31, 35, 35, 35, 35, 35, 33, 37, 37, 37, 37, 37, 27, 37, 35, 37, 32, 27, 34, 37, 37, 32, 37, 40, 37, 37, 26, 28, 37, 7, 26, 23, 31, 6, 13, 26, 36, 24, 26, 30, 33, 35, 31, 31, 32, 29, 18, 29, 33, 23, 17, 25, 5, 15, 20, 30, 15, 23, 23, 31, 27, 27, 32, 30, 33, 22, 22, 24, 20, 29, 33, 29, 23, 20, 17, 30, 31, 32, 2, 2, 2, 2, 2, 2, 2, 2, 2, 2, 2, 2, 2, 2, 2, 2, 2, 2, 2, 2, 2])\t[('NH', 2), ('HI', 2), ('NM', 2), ('MD', '54C25G20'), ('AS', 198), ('XS', '-'), ('RG', 'RIKEN:63a26562-e1fb-11e4-9899-a52c75ff8f68:icgc_rna_RNA_RK054_liver_20120731_01')]\n"
     ]
    },
    {
     "data": {
      "text/plain": [
       "[None, None, None, None, None]"
      ]
     },
     "execution_count": 22,
     "metadata": {},
     "output_type": "execute_result"
    }
   ],
   "source": [
    "[print(read) for read in samfile.head(5)]"
   ]
  },
  {
   "cell_type": "code",
   "execution_count": 23,
   "metadata": {},
   "outputs": [
    {
     "data": {
      "text/plain": [
       "True"
      ]
     },
     "execution_count": 23,
     "metadata": {},
     "output_type": "execute_result"
    }
   ],
   "source": [
    "samfile.is_valid_tid(42)"
   ]
  },
  {
   "cell_type": "code",
   "execution_count": 24,
   "metadata": {},
   "outputs": [
    {
     "data": {
      "text/plain": [
       "(249250621,\n",
       " 243199373,\n",
       " 198022430,\n",
       " 191154276,\n",
       " 180915260,\n",
       " 171115067,\n",
       " 159138663,\n",
       " 146364022,\n",
       " 141213431,\n",
       " 135534747,\n",
       " 135006516,\n",
       " 133851895,\n",
       " 115169878,\n",
       " 107349540,\n",
       " 102531392,\n",
       " 90354753,\n",
       " 81195210,\n",
       " 78077248,\n",
       " 59128983,\n",
       " 63025520,\n",
       " 48129895,\n",
       " 51304566,\n",
       " 155270560,\n",
       " 59373566,\n",
       " 16569,\n",
       " 4262,\n",
       " 15008,\n",
       " 19913,\n",
       " 27386,\n",
       " 27682,\n",
       " 33824,\n",
       " 34474,\n",
       " 36148,\n",
       " 36422,\n",
       " 36651,\n",
       " 37175,\n",
       " 37498,\n",
       " 38154,\n",
       " 38502,\n",
       " 38914,\n",
       " 39786,\n",
       " 39929,\n",
       " 39939,\n",
       " 40103,\n",
       " 40531,\n",
       " 40652,\n",
       " 41001,\n",
       " 41933,\n",
       " 41934,\n",
       " 42152,\n",
       " 43341,\n",
       " 43523,\n",
       " 43691,\n",
       " 45867,\n",
       " 45941,\n",
       " 81310,\n",
       " 90085,\n",
       " 92689,\n",
       " 106433,\n",
       " 128374,\n",
       " 129120,\n",
       " 137718,\n",
       " 155397,\n",
       " 159169,\n",
       " 161147,\n",
       " 161802,\n",
       " 164239,\n",
       " 166566,\n",
       " 169874,\n",
       " 172149,\n",
       " 172294,\n",
       " 172545,\n",
       " 174588,\n",
       " 179198,\n",
       " 179693,\n",
       " 180455,\n",
       " 182896,\n",
       " 186858,\n",
       " 186861,\n",
       " 187035,\n",
       " 189789,\n",
       " 191469,\n",
       " 211173,\n",
       " 547496,\n",
       " 171823,\n",
       " 35477943)"
      ]
     },
     "execution_count": 24,
     "metadata": {},
     "output_type": "execute_result"
    }
   ],
   "source": [
    "samfile.lengths"
   ]
  },
  {
   "cell_type": "code",
   "execution_count": 25,
   "metadata": {},
   "outputs": [
    {
     "data": {
      "text/plain": [
       "1059228"
      ]
     },
     "execution_count": 25,
     "metadata": {},
     "output_type": "execute_result"
    }
   ],
   "source": [
    "samfile.mapped"
   ]
  },
  {
   "cell_type": "code",
   "execution_count": 26,
   "metadata": {},
   "outputs": [],
   "source": [
    "for read in samfile.head(n=4):\n",
    "    target_read = read"
   ]
  },
  {
   "cell_type": "code",
   "execution_count": 27,
   "metadata": {},
   "outputs": [
    {
     "name": "stdout",
     "output_type": "stream",
     "text": [
      "HWI-ST672:204:D1HPJACXX:6:1106:19494:193291\t99\t0\t14716\t255\t101M\t0\t15025\t101\tGTCCTCCTCTGCCTGTGGCTGCTGCGGTGGCGGCAGAGGAGGGATGGAGTCTGACACGCGGGCAAAGGCTCCTCCGGGCCCCTCACCAGCCCCAGGTCCTT\tarray('B', [31, 31, 30, 35, 37, 37, 37, 37, 39, 39, 33, 35, 39, 40, 38, 39, 40, 40, 40, 41, 40, 41, 36, 40, 38, 36, 39, 32, 35, 39, 38, 38, 40, 38, 33, 39, 35, 39, 38, 27, 36, 39, 37, 24, 26, 30, 34, 31, 31, 26, 26, 29, 29, 34, 35, 31, 34, 33, 33, 33, 26, 26, 18, 26, 33, 16, 24, 27, 27, 31, 32, 33, 24, 34, 34, 24, 27, 31, 33, 29, 31, 35, 16, 15, 10, 23, 32, 31, 32, 30, 23, 30, 33, 22, 7, 23, 19, 29, 34, 18, 29])\t[('NH', 1), ('HI', 1), ('NM', 0), ('MD', '101'), ('AS', 201), ('XS', '-'), ('RG', 'RIKEN:63a26562-e1fb-11e4-9899-a52c75ff8f68:icgc_rna_RNA_RK054_liver_20120731_01')]\n"
     ]
    }
   ],
   "source": [
    "print(target_read)"
   ]
  },
  {
   "cell_type": "code",
   "execution_count": 28,
   "metadata": {},
   "outputs": [
    {
     "name": "stdout",
     "output_type": "stream",
     "text": [
      "HWI-ST672:204:D1HPJACXX:6:1106:19494:193291\t147\t0\t15025\t255\t13M757N88M\t0\t14716\t101\tCTCGTGGCTCTCACTTGCTCCTGCTCCTTCTGCTGCTGCTTCTCCAGCTTTCGCTCCTTCATGCTGCGCAGCTTGGCCTTGCCGATGCCCCCAGCTTGGCG\tarray('B', [2, 2, 2, 34, 32, 30, 31, 35, 34, 35, 35, 34, 32, 34, 34, 32, 27, 31, 31, 23, 34, 27, 33, 32, 31, 33, 34, 35, 35, 33, 35, 33, 30, 23, 17, 34, 29, 34, 32, 27, 29, 17, 17, 32, 31, 34, 34, 28, 33, 33, 31, 27, 28, 37, 37, 37, 35, 37, 37, 36, 39, 35, 37, 36, 40, 41, 41, 40, 38, 41, 40, 41, 39, 37, 35, 27, 39, 38, 40, 38, 38, 41, 40, 38, 39, 39, 38, 37, 35, 22, 35, 35, 37, 35, 18, 35, 25, 35, 31, 31, 33])\t[('NH', 1), ('HI', 1), ('NM', 0), ('MD', '101'), ('AS', 201), ('XS', '-'), ('RG', 'RIKEN:63a26562-e1fb-11e4-9899-a52c75ff8f68:icgc_rna_RNA_RK054_liver_20120731_01')]\n"
     ]
    }
   ],
   "source": [
    "print(samfile.mate(target_read))"
   ]
  },
  {
   "cell_type": "code",
   "execution_count": 29,
   "metadata": {},
   "outputs": [
    {
     "data": {
      "text/plain": [
       "6368"
      ]
     },
     "execution_count": 29,
     "metadata": {},
     "output_type": "execute_result"
    }
   ],
   "source": [
    "samfile.nocoordinate"
   ]
  },
  {
   "cell_type": "code",
   "execution_count": 30,
   "metadata": {},
   "outputs": [
    {
     "data": {
      "text/plain": [
       "86"
      ]
     },
     "execution_count": 30,
     "metadata": {},
     "output_type": "execute_result"
    }
   ],
   "source": [
    "samfile.nreferences"
   ]
  },
  {
   "cell_type": "code",
   "execution_count": 31,
   "metadata": {},
   "outputs": [
    {
     "data": {
      "text/plain": [
       "('1',\n",
       " '2',\n",
       " '3',\n",
       " '4',\n",
       " '5',\n",
       " '6',\n",
       " '7',\n",
       " '8',\n",
       " '9',\n",
       " '10',\n",
       " '11',\n",
       " '12',\n",
       " '13',\n",
       " '14',\n",
       " '15',\n",
       " '16',\n",
       " '17',\n",
       " '18',\n",
       " '19',\n",
       " '20',\n",
       " '21',\n",
       " '22',\n",
       " 'X',\n",
       " 'Y',\n",
       " 'MT',\n",
       " 'GL000207.1',\n",
       " 'GL000226.1',\n",
       " 'GL000229.1',\n",
       " 'GL000231.1',\n",
       " 'GL000210.1',\n",
       " 'GL000239.1',\n",
       " 'GL000235.1',\n",
       " 'GL000201.1',\n",
       " 'GL000247.1',\n",
       " 'GL000245.1',\n",
       " 'GL000197.1',\n",
       " 'GL000203.1',\n",
       " 'GL000246.1',\n",
       " 'GL000249.1',\n",
       " 'GL000196.1',\n",
       " 'GL000248.1',\n",
       " 'GL000244.1',\n",
       " 'GL000238.1',\n",
       " 'GL000202.1',\n",
       " 'GL000234.1',\n",
       " 'GL000232.1',\n",
       " 'GL000206.1',\n",
       " 'GL000240.1',\n",
       " 'GL000236.1',\n",
       " 'GL000241.1',\n",
       " 'GL000243.1',\n",
       " 'GL000242.1',\n",
       " 'GL000230.1',\n",
       " 'GL000237.1',\n",
       " 'GL000233.1',\n",
       " 'GL000204.1',\n",
       " 'GL000198.1',\n",
       " 'GL000208.1',\n",
       " 'GL000191.1',\n",
       " 'GL000227.1',\n",
       " 'GL000228.1',\n",
       " 'GL000214.1',\n",
       " 'GL000221.1',\n",
       " 'GL000209.1',\n",
       " 'GL000218.1',\n",
       " 'GL000220.1',\n",
       " 'GL000213.1',\n",
       " 'GL000211.1',\n",
       " 'GL000199.1',\n",
       " 'GL000217.1',\n",
       " 'GL000216.1',\n",
       " 'GL000215.1',\n",
       " 'GL000205.1',\n",
       " 'GL000219.1',\n",
       " 'GL000224.1',\n",
       " 'GL000223.1',\n",
       " 'GL000195.1',\n",
       " 'GL000212.1',\n",
       " 'GL000222.1',\n",
       " 'GL000200.1',\n",
       " 'GL000193.1',\n",
       " 'GL000194.1',\n",
       " 'GL000225.1',\n",
       " 'GL000192.1',\n",
       " 'NC_007605',\n",
       " 'hs37d5')"
      ]
     },
     "execution_count": 31,
     "metadata": {},
     "output_type": "execute_result"
    }
   ],
   "source": [
    "samfile.references"
   ]
  },
  {
   "cell_type": "code",
   "execution_count": 32,
   "metadata": {},
   "outputs": [
    {
     "data": {
      "text/plain": [
       "6368"
      ]
     },
     "execution_count": 32,
     "metadata": {},
     "output_type": "execute_result"
    }
   ],
   "source": [
    "samfile.unmapped"
   ]
  },
  {
   "cell_type": "code",
   "execution_count": 33,
   "metadata": {},
   "outputs": [
    {
     "data": {
      "text/plain": [
       "<pysam.libcalignmentfile.IteratorColumnRegion at 0x7fc0e2364f30>"
      ]
     },
     "execution_count": 33,
     "metadata": {},
     "output_type": "execute_result"
    }
   ],
   "source": [
    "samfile.pileup('1', 14500, 15000)    "
   ]
  },
  {
   "cell_type": "markdown",
   "metadata": {},
   "source": [
    "### AlignedSegment"
   ]
  },
  {
   "cell_type": "code",
   "execution_count": 40,
   "metadata": {},
   "outputs": [
    {
     "name": "stdout",
     "output_type": "stream",
     "text": [
      "4681\n",
      "4681\n"
     ]
    }
   ],
   "source": [
    "print(target_read.bin)\n",
    "print(samfile.mate(target_read).bin)"
   ]
  },
  {
   "cell_type": "code",
   "execution_count": 41,
   "metadata": {},
   "outputs": [
    {
     "name": "stdout",
     "output_type": "stream",
     "text": [
      "101M\n",
      "13M757N88M\n"
     ]
    }
   ],
   "source": [
    "print(target_read.cigarstring)\n",
    "print(samfile.mate(target_read).cigarstring)"
   ]
  },
  {
   "cell_type": "code",
   "execution_count": 43,
   "metadata": {},
   "outputs": [
    {
     "name": "stdout",
     "output_type": "stream",
     "text": [
      "[(0, 101)]\n",
      "[(0, 13), (3, 757), (0, 88)]\n"
     ]
    }
   ],
   "source": [
    "print(target_read.cigartuples)\n",
    "print(samfile.mate(target_read).cigartuples)"
   ]
  },
  {
   "cell_type": "code",
   "execution_count": 44,
   "metadata": {},
   "outputs": [
    {
     "data": {
      "text/plain": [
       "-53"
      ]
     },
     "execution_count": 44,
     "metadata": {},
     "output_type": "execute_result"
    }
   ],
   "source": [
    "target_read.compare(samfile.mate(target_read))"
   ]
  },
  {
   "cell_type": "code",
   "execution_count": 45,
   "metadata": {},
   "outputs": [
    {
     "name": "stdout",
     "output_type": "stream",
     "text": [
      "99\n",
      "147\n"
     ]
    }
   ],
   "source": [
    "print(target_read.flag)\n",
    "print(samfile.mate(target_read).flag)"
   ]
  },
  {
   "cell_type": "code",
   "execution_count": 50,
   "metadata": {},
   "outputs": [],
   "source": [
    "target_mate = samfile.mate(target_read)"
   ]
  },
  {
   "cell_type": "code",
   "execution_count": 51,
   "metadata": {},
   "outputs": [
    {
     "data": {
      "text/plain": [
       "[(0, 14716),\n",
       " (1, 14717),\n",
       " (2, 14718),\n",
       " (3, 14719),\n",
       " (4, 14720),\n",
       " (5, 14721),\n",
       " (6, 14722),\n",
       " (7, 14723),\n",
       " (8, 14724),\n",
       " (9, 14725),\n",
       " (10, 14726),\n",
       " (11, 14727),\n",
       " (12, 14728),\n",
       " (13, 14729),\n",
       " (14, 14730),\n",
       " (15, 14731),\n",
       " (16, 14732),\n",
       " (17, 14733),\n",
       " (18, 14734),\n",
       " (19, 14735),\n",
       " (20, 14736),\n",
       " (21, 14737),\n",
       " (22, 14738),\n",
       " (23, 14739),\n",
       " (24, 14740),\n",
       " (25, 14741),\n",
       " (26, 14742),\n",
       " (27, 14743),\n",
       " (28, 14744),\n",
       " (29, 14745),\n",
       " (30, 14746),\n",
       " (31, 14747),\n",
       " (32, 14748),\n",
       " (33, 14749),\n",
       " (34, 14750),\n",
       " (35, 14751),\n",
       " (36, 14752),\n",
       " (37, 14753),\n",
       " (38, 14754),\n",
       " (39, 14755),\n",
       " (40, 14756),\n",
       " (41, 14757),\n",
       " (42, 14758),\n",
       " (43, 14759),\n",
       " (44, 14760),\n",
       " (45, 14761),\n",
       " (46, 14762),\n",
       " (47, 14763),\n",
       " (48, 14764),\n",
       " (49, 14765),\n",
       " (50, 14766),\n",
       " (51, 14767),\n",
       " (52, 14768),\n",
       " (53, 14769),\n",
       " (54, 14770),\n",
       " (55, 14771),\n",
       " (56, 14772),\n",
       " (57, 14773),\n",
       " (58, 14774),\n",
       " (59, 14775),\n",
       " (60, 14776),\n",
       " (61, 14777),\n",
       " (62, 14778),\n",
       " (63, 14779),\n",
       " (64, 14780),\n",
       " (65, 14781),\n",
       " (66, 14782),\n",
       " (67, 14783),\n",
       " (68, 14784),\n",
       " (69, 14785),\n",
       " (70, 14786),\n",
       " (71, 14787),\n",
       " (72, 14788),\n",
       " (73, 14789),\n",
       " (74, 14790),\n",
       " (75, 14791),\n",
       " (76, 14792),\n",
       " (77, 14793),\n",
       " (78, 14794),\n",
       " (79, 14795),\n",
       " (80, 14796),\n",
       " (81, 14797),\n",
       " (82, 14798),\n",
       " (83, 14799),\n",
       " (84, 14800),\n",
       " (85, 14801),\n",
       " (86, 14802),\n",
       " (87, 14803),\n",
       " (88, 14804),\n",
       " (89, 14805),\n",
       " (90, 14806),\n",
       " (91, 14807),\n",
       " (92, 14808),\n",
       " (93, 14809),\n",
       " (94, 14810),\n",
       " (95, 14811),\n",
       " (96, 14812),\n",
       " (97, 14813),\n",
       " (98, 14814),\n",
       " (99, 14815),\n",
       " (100, 14816)]"
      ]
     },
     "execution_count": 51,
     "metadata": {},
     "output_type": "execute_result"
    }
   ],
   "source": [
    "target_read.get_aligned_pairs()"
   ]
  },
  {
   "cell_type": "code",
   "execution_count": 52,
   "metadata": {},
   "outputs": [
    {
     "data": {
      "text/plain": [
       "[(0, 15025),\n",
       " (1, 15026),\n",
       " (2, 15027),\n",
       " (3, 15028),\n",
       " (4, 15029),\n",
       " (5, 15030),\n",
       " (6, 15031),\n",
       " (7, 15032),\n",
       " (8, 15033),\n",
       " (9, 15034),\n",
       " (10, 15035),\n",
       " (11, 15036),\n",
       " (12, 15037),\n",
       " (None, 15038),\n",
       " (None, 15039),\n",
       " (None, 15040),\n",
       " (None, 15041),\n",
       " (None, 15042),\n",
       " (None, 15043),\n",
       " (None, 15044),\n",
       " (None, 15045),\n",
       " (None, 15046),\n",
       " (None, 15047),\n",
       " (None, 15048),\n",
       " (None, 15049),\n",
       " (None, 15050),\n",
       " (None, 15051),\n",
       " (None, 15052),\n",
       " (None, 15053),\n",
       " (None, 15054),\n",
       " (None, 15055),\n",
       " (None, 15056),\n",
       " (None, 15057),\n",
       " (None, 15058),\n",
       " (None, 15059),\n",
       " (None, 15060),\n",
       " (None, 15061),\n",
       " (None, 15062),\n",
       " (None, 15063),\n",
       " (None, 15064),\n",
       " (None, 15065),\n",
       " (None, 15066),\n",
       " (None, 15067),\n",
       " (None, 15068),\n",
       " (None, 15069),\n",
       " (None, 15070),\n",
       " (None, 15071),\n",
       " (None, 15072),\n",
       " (None, 15073),\n",
       " (None, 15074),\n",
       " (None, 15075),\n",
       " (None, 15076),\n",
       " (None, 15077),\n",
       " (None, 15078),\n",
       " (None, 15079),\n",
       " (None, 15080),\n",
       " (None, 15081),\n",
       " (None, 15082),\n",
       " (None, 15083),\n",
       " (None, 15084),\n",
       " (None, 15085),\n",
       " (None, 15086),\n",
       " (None, 15087),\n",
       " (None, 15088),\n",
       " (None, 15089),\n",
       " (None, 15090),\n",
       " (None, 15091),\n",
       " (None, 15092),\n",
       " (None, 15093),\n",
       " (None, 15094),\n",
       " (None, 15095),\n",
       " (None, 15096),\n",
       " (None, 15097),\n",
       " (None, 15098),\n",
       " (None, 15099),\n",
       " (None, 15100),\n",
       " (None, 15101),\n",
       " (None, 15102),\n",
       " (None, 15103),\n",
       " (None, 15104),\n",
       " (None, 15105),\n",
       " (None, 15106),\n",
       " (None, 15107),\n",
       " (None, 15108),\n",
       " (None, 15109),\n",
       " (None, 15110),\n",
       " (None, 15111),\n",
       " (None, 15112),\n",
       " (None, 15113),\n",
       " (None, 15114),\n",
       " (None, 15115),\n",
       " (None, 15116),\n",
       " (None, 15117),\n",
       " (None, 15118),\n",
       " (None, 15119),\n",
       " (None, 15120),\n",
       " (None, 15121),\n",
       " (None, 15122),\n",
       " (None, 15123),\n",
       " (None, 15124),\n",
       " (None, 15125),\n",
       " (None, 15126),\n",
       " (None, 15127),\n",
       " (None, 15128),\n",
       " (None, 15129),\n",
       " (None, 15130),\n",
       " (None, 15131),\n",
       " (None, 15132),\n",
       " (None, 15133),\n",
       " (None, 15134),\n",
       " (None, 15135),\n",
       " (None, 15136),\n",
       " (None, 15137),\n",
       " (None, 15138),\n",
       " (None, 15139),\n",
       " (None, 15140),\n",
       " (None, 15141),\n",
       " (None, 15142),\n",
       " (None, 15143),\n",
       " (None, 15144),\n",
       " (None, 15145),\n",
       " (None, 15146),\n",
       " (None, 15147),\n",
       " (None, 15148),\n",
       " (None, 15149),\n",
       " (None, 15150),\n",
       " (None, 15151),\n",
       " (None, 15152),\n",
       " (None, 15153),\n",
       " (None, 15154),\n",
       " (None, 15155),\n",
       " (None, 15156),\n",
       " (None, 15157),\n",
       " (None, 15158),\n",
       " (None, 15159),\n",
       " (None, 15160),\n",
       " (None, 15161),\n",
       " (None, 15162),\n",
       " (None, 15163),\n",
       " (None, 15164),\n",
       " (None, 15165),\n",
       " (None, 15166),\n",
       " (None, 15167),\n",
       " (None, 15168),\n",
       " (None, 15169),\n",
       " (None, 15170),\n",
       " (None, 15171),\n",
       " (None, 15172),\n",
       " (None, 15173),\n",
       " (None, 15174),\n",
       " (None, 15175),\n",
       " (None, 15176),\n",
       " (None, 15177),\n",
       " (None, 15178),\n",
       " (None, 15179),\n",
       " (None, 15180),\n",
       " (None, 15181),\n",
       " (None, 15182),\n",
       " (None, 15183),\n",
       " (None, 15184),\n",
       " (None, 15185),\n",
       " (None, 15186),\n",
       " (None, 15187),\n",
       " (None, 15188),\n",
       " (None, 15189),\n",
       " (None, 15190),\n",
       " (None, 15191),\n",
       " (None, 15192),\n",
       " (None, 15193),\n",
       " (None, 15194),\n",
       " (None, 15195),\n",
       " (None, 15196),\n",
       " (None, 15197),\n",
       " (None, 15198),\n",
       " (None, 15199),\n",
       " (None, 15200),\n",
       " (None, 15201),\n",
       " (None, 15202),\n",
       " (None, 15203),\n",
       " (None, 15204),\n",
       " (None, 15205),\n",
       " (None, 15206),\n",
       " (None, 15207),\n",
       " (None, 15208),\n",
       " (None, 15209),\n",
       " (None, 15210),\n",
       " (None, 15211),\n",
       " (None, 15212),\n",
       " (None, 15213),\n",
       " (None, 15214),\n",
       " (None, 15215),\n",
       " (None, 15216),\n",
       " (None, 15217),\n",
       " (None, 15218),\n",
       " (None, 15219),\n",
       " (None, 15220),\n",
       " (None, 15221),\n",
       " (None, 15222),\n",
       " (None, 15223),\n",
       " (None, 15224),\n",
       " (None, 15225),\n",
       " (None, 15226),\n",
       " (None, 15227),\n",
       " (None, 15228),\n",
       " (None, 15229),\n",
       " (None, 15230),\n",
       " (None, 15231),\n",
       " (None, 15232),\n",
       " (None, 15233),\n",
       " (None, 15234),\n",
       " (None, 15235),\n",
       " (None, 15236),\n",
       " (None, 15237),\n",
       " (None, 15238),\n",
       " (None, 15239),\n",
       " (None, 15240),\n",
       " (None, 15241),\n",
       " (None, 15242),\n",
       " (None, 15243),\n",
       " (None, 15244),\n",
       " (None, 15245),\n",
       " (None, 15246),\n",
       " (None, 15247),\n",
       " (None, 15248),\n",
       " (None, 15249),\n",
       " (None, 15250),\n",
       " (None, 15251),\n",
       " (None, 15252),\n",
       " (None, 15253),\n",
       " (None, 15254),\n",
       " (None, 15255),\n",
       " (None, 15256),\n",
       " (None, 15257),\n",
       " (None, 15258),\n",
       " (None, 15259),\n",
       " (None, 15260),\n",
       " (None, 15261),\n",
       " (None, 15262),\n",
       " (None, 15263),\n",
       " (None, 15264),\n",
       " (None, 15265),\n",
       " (None, 15266),\n",
       " (None, 15267),\n",
       " (None, 15268),\n",
       " (None, 15269),\n",
       " (None, 15270),\n",
       " (None, 15271),\n",
       " (None, 15272),\n",
       " (None, 15273),\n",
       " (None, 15274),\n",
       " (None, 15275),\n",
       " (None, 15276),\n",
       " (None, 15277),\n",
       " (None, 15278),\n",
       " (None, 15279),\n",
       " (None, 15280),\n",
       " (None, 15281),\n",
       " (None, 15282),\n",
       " (None, 15283),\n",
       " (None, 15284),\n",
       " (None, 15285),\n",
       " (None, 15286),\n",
       " (None, 15287),\n",
       " (None, 15288),\n",
       " (None, 15289),\n",
       " (None, 15290),\n",
       " (None, 15291),\n",
       " (None, 15292),\n",
       " (None, 15293),\n",
       " (None, 15294),\n",
       " (None, 15295),\n",
       " (None, 15296),\n",
       " (None, 15297),\n",
       " (None, 15298),\n",
       " (None, 15299),\n",
       " (None, 15300),\n",
       " (None, 15301),\n",
       " (None, 15302),\n",
       " (None, 15303),\n",
       " (None, 15304),\n",
       " (None, 15305),\n",
       " (None, 15306),\n",
       " (None, 15307),\n",
       " (None, 15308),\n",
       " (None, 15309),\n",
       " (None, 15310),\n",
       " (None, 15311),\n",
       " (None, 15312),\n",
       " (None, 15313),\n",
       " (None, 15314),\n",
       " (None, 15315),\n",
       " (None, 15316),\n",
       " (None, 15317),\n",
       " (None, 15318),\n",
       " (None, 15319),\n",
       " (None, 15320),\n",
       " (None, 15321),\n",
       " (None, 15322),\n",
       " (None, 15323),\n",
       " (None, 15324),\n",
       " (None, 15325),\n",
       " (None, 15326),\n",
       " (None, 15327),\n",
       " (None, 15328),\n",
       " (None, 15329),\n",
       " (None, 15330),\n",
       " (None, 15331),\n",
       " (None, 15332),\n",
       " (None, 15333),\n",
       " (None, 15334),\n",
       " (None, 15335),\n",
       " (None, 15336),\n",
       " (None, 15337),\n",
       " (None, 15338),\n",
       " (None, 15339),\n",
       " (None, 15340),\n",
       " (None, 15341),\n",
       " (None, 15342),\n",
       " (None, 15343),\n",
       " (None, 15344),\n",
       " (None, 15345),\n",
       " (None, 15346),\n",
       " (None, 15347),\n",
       " (None, 15348),\n",
       " (None, 15349),\n",
       " (None, 15350),\n",
       " (None, 15351),\n",
       " (None, 15352),\n",
       " (None, 15353),\n",
       " (None, 15354),\n",
       " (None, 15355),\n",
       " (None, 15356),\n",
       " (None, 15357),\n",
       " (None, 15358),\n",
       " (None, 15359),\n",
       " (None, 15360),\n",
       " (None, 15361),\n",
       " (None, 15362),\n",
       " (None, 15363),\n",
       " (None, 15364),\n",
       " (None, 15365),\n",
       " (None, 15366),\n",
       " (None, 15367),\n",
       " (None, 15368),\n",
       " (None, 15369),\n",
       " (None, 15370),\n",
       " (None, 15371),\n",
       " (None, 15372),\n",
       " (None, 15373),\n",
       " (None, 15374),\n",
       " (None, 15375),\n",
       " (None, 15376),\n",
       " (None, 15377),\n",
       " (None, 15378),\n",
       " (None, 15379),\n",
       " (None, 15380),\n",
       " (None, 15381),\n",
       " (None, 15382),\n",
       " (None, 15383),\n",
       " (None, 15384),\n",
       " (None, 15385),\n",
       " (None, 15386),\n",
       " (None, 15387),\n",
       " (None, 15388),\n",
       " (None, 15389),\n",
       " (None, 15390),\n",
       " (None, 15391),\n",
       " (None, 15392),\n",
       " (None, 15393),\n",
       " (None, 15394),\n",
       " (None, 15395),\n",
       " (None, 15396),\n",
       " (None, 15397),\n",
       " (None, 15398),\n",
       " (None, 15399),\n",
       " (None, 15400),\n",
       " (None, 15401),\n",
       " (None, 15402),\n",
       " (None, 15403),\n",
       " (None, 15404),\n",
       " (None, 15405),\n",
       " (None, 15406),\n",
       " (None, 15407),\n",
       " (None, 15408),\n",
       " (None, 15409),\n",
       " (None, 15410),\n",
       " (None, 15411),\n",
       " (None, 15412),\n",
       " (None, 15413),\n",
       " (None, 15414),\n",
       " (None, 15415),\n",
       " (None, 15416),\n",
       " (None, 15417),\n",
       " (None, 15418),\n",
       " (None, 15419),\n",
       " (None, 15420),\n",
       " (None, 15421),\n",
       " (None, 15422),\n",
       " (None, 15423),\n",
       " (None, 15424),\n",
       " (None, 15425),\n",
       " (None, 15426),\n",
       " (None, 15427),\n",
       " (None, 15428),\n",
       " (None, 15429),\n",
       " (None, 15430),\n",
       " (None, 15431),\n",
       " (None, 15432),\n",
       " (None, 15433),\n",
       " (None, 15434),\n",
       " (None, 15435),\n",
       " (None, 15436),\n",
       " (None, 15437),\n",
       " (None, 15438),\n",
       " (None, 15439),\n",
       " (None, 15440),\n",
       " (None, 15441),\n",
       " (None, 15442),\n",
       " (None, 15443),\n",
       " (None, 15444),\n",
       " (None, 15445),\n",
       " (None, 15446),\n",
       " (None, 15447),\n",
       " (None, 15448),\n",
       " (None, 15449),\n",
       " (None, 15450),\n",
       " (None, 15451),\n",
       " (None, 15452),\n",
       " (None, 15453),\n",
       " (None, 15454),\n",
       " (None, 15455),\n",
       " (None, 15456),\n",
       " (None, 15457),\n",
       " (None, 15458),\n",
       " (None, 15459),\n",
       " (None, 15460),\n",
       " (None, 15461),\n",
       " (None, 15462),\n",
       " (None, 15463),\n",
       " (None, 15464),\n",
       " (None, 15465),\n",
       " (None, 15466),\n",
       " (None, 15467),\n",
       " (None, 15468),\n",
       " (None, 15469),\n",
       " (None, 15470),\n",
       " (None, 15471),\n",
       " (None, 15472),\n",
       " (None, 15473),\n",
       " (None, 15474),\n",
       " (None, 15475),\n",
       " (None, 15476),\n",
       " (None, 15477),\n",
       " (None, 15478),\n",
       " (None, 15479),\n",
       " (None, 15480),\n",
       " (None, 15481),\n",
       " (None, 15482),\n",
       " (None, 15483),\n",
       " (None, 15484),\n",
       " (None, 15485),\n",
       " (None, 15486),\n",
       " (None, 15487),\n",
       " (None, 15488),\n",
       " (None, 15489),\n",
       " (None, 15490),\n",
       " (None, 15491),\n",
       " (None, 15492),\n",
       " (None, 15493),\n",
       " (None, 15494),\n",
       " (None, 15495),\n",
       " (None, 15496),\n",
       " (None, 15497),\n",
       " (None, 15498),\n",
       " (None, 15499),\n",
       " (None, 15500),\n",
       " (None, 15501),\n",
       " (None, 15502),\n",
       " (None, 15503),\n",
       " (None, 15504),\n",
       " (None, 15505),\n",
       " (None, 15506),\n",
       " (None, 15507),\n",
       " (None, 15508),\n",
       " (None, 15509),\n",
       " (None, 15510),\n",
       " (None, 15511),\n",
       " (None, 15512),\n",
       " (None, 15513),\n",
       " (None, 15514),\n",
       " (None, 15515),\n",
       " (None, 15516),\n",
       " (None, 15517),\n",
       " (None, 15518),\n",
       " (None, 15519),\n",
       " (None, 15520),\n",
       " (None, 15521),\n",
       " (None, 15522),\n",
       " (None, 15523),\n",
       " (None, 15524),\n",
       " (None, 15525),\n",
       " (None, 15526),\n",
       " (None, 15527),\n",
       " (None, 15528),\n",
       " (None, 15529),\n",
       " (None, 15530),\n",
       " (None, 15531),\n",
       " (None, 15532),\n",
       " (None, 15533),\n",
       " (None, 15534),\n",
       " (None, 15535),\n",
       " (None, 15536),\n",
       " (None, 15537),\n",
       " (None, 15538),\n",
       " (None, 15539),\n",
       " (None, 15540),\n",
       " (None, 15541),\n",
       " (None, 15542),\n",
       " (None, 15543),\n",
       " (None, 15544),\n",
       " (None, 15545),\n",
       " (None, 15546),\n",
       " (None, 15547),\n",
       " (None, 15548),\n",
       " (None, 15549),\n",
       " (None, 15550),\n",
       " (None, 15551),\n",
       " (None, 15552),\n",
       " (None, 15553),\n",
       " (None, 15554),\n",
       " (None, 15555),\n",
       " (None, 15556),\n",
       " (None, 15557),\n",
       " (None, 15558),\n",
       " (None, 15559),\n",
       " (None, 15560),\n",
       " (None, 15561),\n",
       " (None, 15562),\n",
       " (None, 15563),\n",
       " (None, 15564),\n",
       " (None, 15565),\n",
       " (None, 15566),\n",
       " (None, 15567),\n",
       " (None, 15568),\n",
       " (None, 15569),\n",
       " (None, 15570),\n",
       " (None, 15571),\n",
       " (None, 15572),\n",
       " (None, 15573),\n",
       " (None, 15574),\n",
       " (None, 15575),\n",
       " (None, 15576),\n",
       " (None, 15577),\n",
       " (None, 15578),\n",
       " (None, 15579),\n",
       " (None, 15580),\n",
       " (None, 15581),\n",
       " (None, 15582),\n",
       " (None, 15583),\n",
       " (None, 15584),\n",
       " (None, 15585),\n",
       " (None, 15586),\n",
       " (None, 15587),\n",
       " (None, 15588),\n",
       " (None, 15589),\n",
       " (None, 15590),\n",
       " (None, 15591),\n",
       " (None, 15592),\n",
       " (None, 15593),\n",
       " (None, 15594),\n",
       " (None, 15595),\n",
       " (None, 15596),\n",
       " (None, 15597),\n",
       " (None, 15598),\n",
       " (None, 15599),\n",
       " (None, 15600),\n",
       " (None, 15601),\n",
       " (None, 15602),\n",
       " (None, 15603),\n",
       " (None, 15604),\n",
       " (None, 15605),\n",
       " (None, 15606),\n",
       " (None, 15607),\n",
       " (None, 15608),\n",
       " (None, 15609),\n",
       " (None, 15610),\n",
       " (None, 15611),\n",
       " (None, 15612),\n",
       " (None, 15613),\n",
       " (None, 15614),\n",
       " (None, 15615),\n",
       " (None, 15616),\n",
       " (None, 15617),\n",
       " (None, 15618),\n",
       " (None, 15619),\n",
       " (None, 15620),\n",
       " (None, 15621),\n",
       " (None, 15622),\n",
       " (None, 15623),\n",
       " (None, 15624),\n",
       " (None, 15625),\n",
       " (None, 15626),\n",
       " (None, 15627),\n",
       " (None, 15628),\n",
       " (None, 15629),\n",
       " (None, 15630),\n",
       " (None, 15631),\n",
       " (None, 15632),\n",
       " (None, 15633),\n",
       " (None, 15634),\n",
       " (None, 15635),\n",
       " (None, 15636),\n",
       " (None, 15637),\n",
       " (None, 15638),\n",
       " (None, 15639),\n",
       " (None, 15640),\n",
       " (None, 15641),\n",
       " (None, 15642),\n",
       " (None, 15643),\n",
       " (None, 15644),\n",
       " (None, 15645),\n",
       " (None, 15646),\n",
       " (None, 15647),\n",
       " (None, 15648),\n",
       " (None, 15649),\n",
       " (None, 15650),\n",
       " (None, 15651),\n",
       " (None, 15652),\n",
       " (None, 15653),\n",
       " (None, 15654),\n",
       " (None, 15655),\n",
       " (None, 15656),\n",
       " (None, 15657),\n",
       " (None, 15658),\n",
       " (None, 15659),\n",
       " (None, 15660),\n",
       " (None, 15661),\n",
       " (None, 15662),\n",
       " (None, 15663),\n",
       " (None, 15664),\n",
       " (None, 15665),\n",
       " (None, 15666),\n",
       " (None, 15667),\n",
       " (None, 15668),\n",
       " (None, 15669),\n",
       " (None, 15670),\n",
       " (None, 15671),\n",
       " (None, 15672),\n",
       " (None, 15673),\n",
       " (None, 15674),\n",
       " (None, 15675),\n",
       " (None, 15676),\n",
       " (None, 15677),\n",
       " (None, 15678),\n",
       " (None, 15679),\n",
       " (None, 15680),\n",
       " (None, 15681),\n",
       " (None, 15682),\n",
       " (None, 15683),\n",
       " (None, 15684),\n",
       " (None, 15685),\n",
       " (None, 15686),\n",
       " (None, 15687),\n",
       " (None, 15688),\n",
       " (None, 15689),\n",
       " (None, 15690),\n",
       " (None, 15691),\n",
       " (None, 15692),\n",
       " (None, 15693),\n",
       " (None, 15694),\n",
       " (None, 15695),\n",
       " (None, 15696),\n",
       " (None, 15697),\n",
       " (None, 15698),\n",
       " (None, 15699),\n",
       " (None, 15700),\n",
       " (None, 15701),\n",
       " (None, 15702),\n",
       " (None, 15703),\n",
       " (None, 15704),\n",
       " (None, 15705),\n",
       " (None, 15706),\n",
       " (None, 15707),\n",
       " (None, 15708),\n",
       " (None, 15709),\n",
       " (None, 15710),\n",
       " (None, 15711),\n",
       " (None, 15712),\n",
       " (None, 15713),\n",
       " (None, 15714),\n",
       " (None, 15715),\n",
       " (None, 15716),\n",
       " (None, 15717),\n",
       " (None, 15718),\n",
       " (None, 15719),\n",
       " (None, 15720),\n",
       " (None, 15721),\n",
       " (None, 15722),\n",
       " (None, 15723),\n",
       " (None, 15724),\n",
       " (None, 15725),\n",
       " (None, 15726),\n",
       " (None, 15727),\n",
       " (None, 15728),\n",
       " (None, 15729),\n",
       " (None, 15730),\n",
       " (None, 15731),\n",
       " (None, 15732),\n",
       " (None, 15733),\n",
       " (None, 15734),\n",
       " (None, 15735),\n",
       " (None, 15736),\n",
       " (None, 15737),\n",
       " (None, 15738),\n",
       " (None, 15739),\n",
       " (None, 15740),\n",
       " (None, 15741),\n",
       " (None, 15742),\n",
       " (None, 15743),\n",
       " (None, 15744),\n",
       " (None, 15745),\n",
       " (None, 15746),\n",
       " (None, 15747),\n",
       " (None, 15748),\n",
       " (None, 15749),\n",
       " (None, 15750),\n",
       " (None, 15751),\n",
       " (None, 15752),\n",
       " (None, 15753),\n",
       " (None, 15754),\n",
       " (None, 15755),\n",
       " (None, 15756),\n",
       " (None, 15757),\n",
       " (None, 15758),\n",
       " (None, 15759),\n",
       " (None, 15760),\n",
       " (None, 15761),\n",
       " (None, 15762),\n",
       " (None, 15763),\n",
       " (None, 15764),\n",
       " (None, 15765),\n",
       " (None, 15766),\n",
       " (None, 15767),\n",
       " (None, 15768),\n",
       " (None, 15769),\n",
       " (None, 15770),\n",
       " (None, 15771),\n",
       " (None, 15772),\n",
       " (None, 15773),\n",
       " (None, 15774),\n",
       " (None, 15775),\n",
       " (None, 15776),\n",
       " (None, 15777),\n",
       " (None, 15778),\n",
       " (None, 15779),\n",
       " (None, 15780),\n",
       " (None, 15781),\n",
       " (None, 15782),\n",
       " (None, 15783),\n",
       " (None, 15784),\n",
       " (None, 15785),\n",
       " (None, 15786),\n",
       " (None, 15787),\n",
       " (None, 15788),\n",
       " (None, 15789),\n",
       " (None, 15790),\n",
       " (None, 15791),\n",
       " (None, 15792),\n",
       " (None, 15793),\n",
       " (None, 15794),\n",
       " (13, 15795),\n",
       " (14, 15796),\n",
       " (15, 15797),\n",
       " (16, 15798),\n",
       " (17, 15799),\n",
       " (18, 15800),\n",
       " (19, 15801),\n",
       " (20, 15802),\n",
       " (21, 15803),\n",
       " (22, 15804),\n",
       " (23, 15805),\n",
       " (24, 15806),\n",
       " (25, 15807),\n",
       " (26, 15808),\n",
       " (27, 15809),\n",
       " (28, 15810),\n",
       " (29, 15811),\n",
       " (30, 15812),\n",
       " (31, 15813),\n",
       " (32, 15814),\n",
       " (33, 15815),\n",
       " (34, 15816),\n",
       " (35, 15817),\n",
       " (36, 15818),\n",
       " (37, 15819),\n",
       " (38, 15820),\n",
       " (39, 15821),\n",
       " (40, 15822),\n",
       " (41, 15823),\n",
       " (42, 15824),\n",
       " (43, 15825),\n",
       " (44, 15826),\n",
       " (45, 15827),\n",
       " (46, 15828),\n",
       " (47, 15829),\n",
       " (48, 15830),\n",
       " (49, 15831),\n",
       " (50, 15832),\n",
       " (51, 15833),\n",
       " (52, 15834),\n",
       " (53, 15835),\n",
       " (54, 15836),\n",
       " (55, 15837),\n",
       " (56, 15838),\n",
       " (57, 15839),\n",
       " (58, 15840),\n",
       " (59, 15841),\n",
       " (60, 15842),\n",
       " (61, 15843),\n",
       " (62, 15844),\n",
       " (63, 15845),\n",
       " (64, 15846),\n",
       " (65, 15847),\n",
       " (66, 15848),\n",
       " (67, 15849),\n",
       " (68, 15850),\n",
       " (69, 15851),\n",
       " (70, 15852),\n",
       " (71, 15853),\n",
       " (72, 15854),\n",
       " (73, 15855),\n",
       " (74, 15856),\n",
       " (75, 15857),\n",
       " (76, 15858),\n",
       " (77, 15859),\n",
       " (78, 15860),\n",
       " (79, 15861),\n",
       " (80, 15862),\n",
       " (81, 15863),\n",
       " (82, 15864),\n",
       " (83, 15865),\n",
       " (84, 15866),\n",
       " (85, 15867),\n",
       " (86, 15868),\n",
       " (87, 15869),\n",
       " (88, 15870),\n",
       " (89, 15871),\n",
       " (90, 15872),\n",
       " (91, 15873),\n",
       " (92, 15874),\n",
       " (93, 15875),\n",
       " (94, 15876),\n",
       " (95, 15877),\n",
       " (96, 15878),\n",
       " (97, 15879),\n",
       " (98, 15880),\n",
       " (99, 15881),\n",
       " (100, 15882)]"
      ]
     },
     "execution_count": 52,
     "metadata": {},
     "output_type": "execute_result"
    }
   ],
   "source": [
    "target_mate.get_aligned_pairs()"
   ]
  },
  {
   "cell_type": "code",
   "execution_count": 57,
   "metadata": {},
   "outputs": [
    {
     "name": "stdout",
     "output_type": "stream",
     "text": [
      "[(14716, 14817)]\n",
      "[(15025, 15038), (15795, 15883)]\n"
     ]
    }
   ],
   "source": [
    "print(target_read.get_blocks())\n",
    "print(target_mate.get_blocks())"
   ]
  },
  {
   "cell_type": "code",
   "execution_count": 59,
   "metadata": {},
   "outputs": [
    {
     "name": "stdout",
     "output_type": "stream",
     "text": [
      "(array('I', [101, 0, 0, 0, 0, 0, 0, 0, 0, 0, 0]), array('I', [1, 0, 0, 0, 0, 0, 0, 0, 0, 0, 0]))\n",
      "(array('I', [101, 0, 0, 757, 0, 0, 0, 0, 0, 0, 0]), array('I', [2, 0, 0, 1, 0, 0, 0, 0, 0, 0, 0]))\n"
     ]
    }
   ],
   "source": [
    "print(target_read.get_cigar_stats())\n",
    "print(target_mate.get_cigar_stats())"
   ]
  },
  {
   "cell_type": "code",
   "execution_count": 64,
   "metadata": {},
   "outputs": [
    {
     "name": "stdout",
     "output_type": "stream",
     "text": [
      "array('B', [31, 31, 30, 35, 37, 37, 37, 37, 39, 39, 33, 35, 39, 40, 38, 39, 40, 40, 40, 41, 40, 41, 36, 40, 38, 36, 39, 32, 35, 39, 38, 38, 40, 38, 33, 39, 35, 39, 38, 27, 36, 39, 37, 24, 26, 30, 34, 31, 31, 26, 26, 29, 29, 34, 35, 31, 34, 33, 33, 33, 26, 26, 18, 26, 33, 16, 24, 27, 27, 31, 32, 33, 24, 34, 34, 24, 27, 31, 33, 29, 31, 35, 16, 15, 10, 23, 32, 31, 32, 30, 23, 30, 33, 22, 7, 23, 19, 29, 34, 18, 29])\n",
      "GTCCTCCTCTGCCTGTGGCTGCTGCGGTGGCGGCAGAGGAGGGATGGAGTCTGACACGCGGGCAAAGGCTCCTCCGGGCCCCTCACCAGCCCCAGGTCCTT\n",
      "array('B', [33, 31, 31, 35, 25, 35, 18, 35, 37, 35, 35, 22, 35, 37, 38, 39, 39, 38, 40, 41, 38, 38, 40, 38, 39, 27, 35, 37, 39, 41, 40, 41, 38, 40, 41, 41, 40, 36, 37, 35, 39, 36, 37, 37, 35, 37, 37, 37, 28, 27, 31, 33, 33, 28, 34, 34, 31, 32, 17, 17, 29, 27, 32, 34, 29, 34, 17, 23, 30, 33, 35, 33, 35, 35, 34, 33, 31, 32, 33, 27, 34, 23, 31, 31, 27, 32, 34, 34, 32, 34, 35, 35, 34, 35, 31, 30, 32, 34, 2, 2, 2])\n",
      "CGCCAAGCTGGGGGCATCGGCAAGGCCAAGCTGCGCAGCATGAAGGAGCGAAAGCTGGAGAAGCAGCAGCAGAAGGAGCAGGAGCAAGTGAGAGCCACGAG\n"
     ]
    }
   ],
   "source": [
    "print(target_read.get_forward_qualities())\n",
    "print(target_read.get_forward_sequence())\n",
    "print(target_mate.get_forward_qualities())\n",
    "print(target_mate.get_forward_sequence())"
   ]
  },
  {
   "cell_type": "code",
   "execution_count": 70,
   "metadata": {},
   "outputs": [
    {
     "name": "stdout",
     "output_type": "stream",
     "text": [
      "84\n"
     ]
    }
   ],
   "source": [
    "print(target_read.get_overlap(14700, 14800))"
   ]
  },
  {
   "cell_type": "code",
   "execution_count": 71,
   "metadata": {},
   "outputs": [
    {
     "name": "stdout",
     "output_type": "stream",
     "text": [
      "[14716, 14717, 14718, 14719, 14720, 14721, 14722, 14723, 14724, 14725, 14726, 14727, 14728, 14729, 14730, 14731, 14732, 14733, 14734, 14735, 14736, 14737, 14738, 14739, 14740, 14741, 14742, 14743, 14744, 14745, 14746, 14747, 14748, 14749, 14750, 14751, 14752, 14753, 14754, 14755, 14756, 14757, 14758, 14759, 14760, 14761, 14762, 14763, 14764, 14765, 14766, 14767, 14768, 14769, 14770, 14771, 14772, 14773, 14774, 14775, 14776, 14777, 14778, 14779, 14780, 14781, 14782, 14783, 14784, 14785, 14786, 14787, 14788, 14789, 14790, 14791, 14792, 14793, 14794, 14795, 14796, 14797, 14798, 14799, 14800, 14801, 14802, 14803, 14804, 14805, 14806, 14807, 14808, 14809, 14810, 14811, 14812, 14813, 14814, 14815, 14816]\n"
     ]
    }
   ],
   "source": [
    "print(target_read.get_reference_positions())"
   ]
  },
  {
   "cell_type": "code",
   "execution_count": 72,
   "metadata": {},
   "outputs": [
    {
     "name": "stdout",
     "output_type": "stream",
     "text": [
      "[15025, 15026, 15027, 15028, 15029, 15030, 15031, 15032, 15033, 15034, 15035, 15036, 15037, 15795, 15796, 15797, 15798, 15799, 15800, 15801, 15802, 15803, 15804, 15805, 15806, 15807, 15808, 15809, 15810, 15811, 15812, 15813, 15814, 15815, 15816, 15817, 15818, 15819, 15820, 15821, 15822, 15823, 15824, 15825, 15826, 15827, 15828, 15829, 15830, 15831, 15832, 15833, 15834, 15835, 15836, 15837, 15838, 15839, 15840, 15841, 15842, 15843, 15844, 15845, 15846, 15847, 15848, 15849, 15850, 15851, 15852, 15853, 15854, 15855, 15856, 15857, 15858, 15859, 15860, 15861, 15862, 15863, 15864, 15865, 15866, 15867, 15868, 15869, 15870, 15871, 15872, 15873, 15874, 15875, 15876, 15877, 15878, 15879, 15880, 15881, 15882]\n"
     ]
    }
   ],
   "source": [
    "print(target_mate.get_reference_positions())"
   ]
  },
  {
   "cell_type": "code",
   "execution_count": 73,
   "metadata": {},
   "outputs": [
    {
     "data": {
      "text/plain": [
       "'CTCGTGGCTCTCACTTGCTCCTGCTCCTTCTGCTGCTGCTTCTCCAGCTTTCGCTCCTTCATGCTGCGCAGCTTGGCCTTGCCGATGCCCCCAGCTTGGCG'"
      ]
     },
     "execution_count": 73,
     "metadata": {},
     "output_type": "execute_result"
    }
   ],
   "source": [
    "target_mate.get_reference_sequence()"
   ]
  },
  {
   "cell_type": "code",
   "execution_count": 87,
   "metadata": {},
   "outputs": [
    {
     "data": {
      "text/plain": [
       "[('NH', 1),\n",
       " ('HI', 1),\n",
       " ('NM', 0),\n",
       " ('MD', '101'),\n",
       " ('AS', 201),\n",
       " ('XS', '-'),\n",
       " ('RG',\n",
       "  'RIKEN:63a26562-e1fb-11e4-9899-a52c75ff8f68:icgc_rna_RNA_RK054_liver_20120731_01')]"
      ]
     },
     "execution_count": 87,
     "metadata": {},
     "output_type": "execute_result"
    }
   ],
   "source": [
    "target_mate.get_tags()"
   ]
  },
  {
   "cell_type": "code",
   "execution_count": 88,
   "metadata": {},
   "outputs": [
    {
     "data": {
      "text/plain": [
       "101"
      ]
     },
     "execution_count": 88,
     "metadata": {},
     "output_type": "execute_result"
    }
   ],
   "source": [
    "target_read.infer_query_length()"
   ]
  },
  {
   "cell_type": "code",
   "execution_count": 89,
   "metadata": {},
   "outputs": [
    {
     "data": {
      "text/plain": [
       "101"
      ]
     },
     "execution_count": 89,
     "metadata": {},
     "output_type": "execute_result"
    }
   ],
   "source": [
    "target_read.infer_read_length()"
   ]
  },
  {
   "cell_type": "code",
   "execution_count": 90,
   "metadata": {},
   "outputs": [
    {
     "data": {
      "text/plain": [
       "False"
      ]
     },
     "execution_count": 90,
     "metadata": {},
     "output_type": "execute_result"
    }
   ],
   "source": [
    "target_read.is_duplicate"
   ]
  },
  {
   "cell_type": "code",
   "execution_count": 92,
   "metadata": {},
   "outputs": [
    {
     "data": {
      "text/plain": [
       "True"
      ]
     },
     "execution_count": 92,
     "metadata": {},
     "output_type": "execute_result"
    }
   ],
   "source": [
    "target_read.is_paired"
   ]
  },
  {
   "cell_type": "code",
   "execution_count": 93,
   "metadata": {},
   "outputs": [
    {
     "data": {
      "text/plain": [
       "True"
      ]
     },
     "execution_count": 93,
     "metadata": {},
     "output_type": "execute_result"
    }
   ],
   "source": [
    "target_read.is_proper_pair"
   ]
  },
  {
   "cell_type": "code",
   "execution_count": 94,
   "metadata": {},
   "outputs": [
    {
     "data": {
      "text/plain": [
       "False"
      ]
     },
     "execution_count": 94,
     "metadata": {},
     "output_type": "execute_result"
    }
   ],
   "source": [
    "target_read.is_qcfail"
   ]
  },
  {
   "cell_type": "code",
   "execution_count": 95,
   "metadata": {},
   "outputs": [
    {
     "data": {
      "text/plain": [
       "True"
      ]
     },
     "execution_count": 95,
     "metadata": {},
     "output_type": "execute_result"
    }
   ],
   "source": [
    "target_read.is_read1"
   ]
  },
  {
   "cell_type": "code",
   "execution_count": 97,
   "metadata": {},
   "outputs": [
    {
     "data": {
      "text/plain": [
       "True"
      ]
     },
     "execution_count": 97,
     "metadata": {},
     "output_type": "execute_result"
    }
   ],
   "source": [
    "target_mate.is_read2"
   ]
  },
  {
   "cell_type": "code",
   "execution_count": 98,
   "metadata": {},
   "outputs": [
    {
     "data": {
      "text/plain": [
       "True"
      ]
     },
     "execution_count": 98,
     "metadata": {},
     "output_type": "execute_result"
    }
   ],
   "source": [
    "target_mate.is_reverse"
   ]
  },
  {
   "cell_type": "code",
   "execution_count": 99,
   "metadata": {},
   "outputs": [
    {
     "data": {
      "text/plain": [
       "False"
      ]
     },
     "execution_count": 99,
     "metadata": {},
     "output_type": "execute_result"
    }
   ],
   "source": [
    "target_read.is_secondary"
   ]
  },
  {
   "cell_type": "code",
   "execution_count": 100,
   "metadata": {},
   "outputs": [
    {
     "data": {
      "text/plain": [
       "False"
      ]
     },
     "execution_count": 100,
     "metadata": {},
     "output_type": "execute_result"
    }
   ],
   "source": [
    "target_read.is_supplementary"
   ]
  },
  {
   "cell_type": "code",
   "execution_count": 101,
   "metadata": {},
   "outputs": [
    {
     "data": {
      "text/plain": [
       "False"
      ]
     },
     "execution_count": 101,
     "metadata": {},
     "output_type": "execute_result"
    }
   ],
   "source": [
    "target_read.is_unmapped"
   ]
  },
  {
   "cell_type": "code",
   "execution_count": 102,
   "metadata": {},
   "outputs": [
    {
     "data": {
      "text/plain": [
       "255"
      ]
     },
     "execution_count": 102,
     "metadata": {},
     "output_type": "execute_result"
    }
   ],
   "source": [
    "target_read.mapping_quality"
   ]
  },
  {
   "cell_type": "code",
   "execution_count": 103,
   "metadata": {},
   "outputs": [
    {
     "data": {
      "text/plain": [
       "True"
      ]
     },
     "execution_count": 103,
     "metadata": {},
     "output_type": "execute_result"
    }
   ],
   "source": [
    "target_read.mate_is_reverse"
   ]
  },
  {
   "cell_type": "code",
   "execution_count": 104,
   "metadata": {},
   "outputs": [
    {
     "data": {
      "text/plain": [
       "False"
      ]
     },
     "execution_count": 104,
     "metadata": {},
     "output_type": "execute_result"
    }
   ],
   "source": [
    "target_read.mate_is_unmapped"
   ]
  },
  {
   "cell_type": "code",
   "execution_count": 105,
   "metadata": {},
   "outputs": [
    {
     "data": {
      "text/plain": [
       "0"
      ]
     },
     "execution_count": 105,
     "metadata": {},
     "output_type": "execute_result"
    }
   ],
   "source": [
    "target_read.next_reference_id"
   ]
  },
  {
   "cell_type": "code",
   "execution_count": 106,
   "metadata": {},
   "outputs": [
    {
     "data": {
      "text/plain": [
       "'1'"
      ]
     },
     "execution_count": 106,
     "metadata": {},
     "output_type": "execute_result"
    }
   ],
   "source": [
    "target_read.next_reference_name"
   ]
  },
  {
   "cell_type": "code",
   "execution_count": 107,
   "metadata": {},
   "outputs": [
    {
     "data": {
      "text/plain": [
       "15025"
      ]
     },
     "execution_count": 107,
     "metadata": {},
     "output_type": "execute_result"
    }
   ],
   "source": [
    "target_read.next_reference_start"
   ]
  },
  {
   "cell_type": "code",
   "execution_count": 112,
   "metadata": {},
   "outputs": [
    {
     "name": "stdout",
     "output_type": "stream",
     "text": [
      "101\n",
      "101\n"
     ]
    }
   ],
   "source": [
    "print(target_mate.query_alignment_end)\n",
    "print(target_mate.query_alignment_length)"
   ]
  },
  {
   "cell_type": "code",
   "execution_count": 114,
   "metadata": {},
   "outputs": [
    {
     "data": {
      "text/plain": [
       "array('B', [31, 31, 30, 35, 37, 37, 37, 37, 39, 39, 33, 35, 39, 40, 38, 39, 40, 40, 40, 41, 40, 41, 36, 40, 38, 36, 39, 32, 35, 39, 38, 38, 40, 38, 33, 39, 35, 39, 38, 27, 36, 39, 37, 24, 26, 30, 34, 31, 31, 26, 26, 29, 29, 34, 35, 31, 34, 33, 33, 33, 26, 26, 18, 26, 33, 16, 24, 27, 27, 31, 32, 33, 24, 34, 34, 24, 27, 31, 33, 29, 31, 35, 16, 15, 10, 23, 32, 31, 32, 30, 23, 30, 33, 22, 7, 23, 19, 29, 34, 18, 29])"
      ]
     },
     "execution_count": 114,
     "metadata": {},
     "output_type": "execute_result"
    }
   ],
   "source": [
    "target_read.query_alignment_qualities"
   ]
  },
  {
   "cell_type": "code",
   "execution_count": 115,
   "metadata": {},
   "outputs": [
    {
     "data": {
      "text/plain": [
       "'GTCCTCCTCTGCCTGTGGCTGCTGCGGTGGCGGCAGAGGAGGGATGGAGTCTGACACGCGGGCAAAGGCTCCTCCGGGCCCCTCACCAGCCCCAGGTCCTT'"
      ]
     },
     "execution_count": 115,
     "metadata": {},
     "output_type": "execute_result"
    }
   ],
   "source": [
    "target_read.query_alignment_sequence"
   ]
  },
  {
   "cell_type": "code",
   "execution_count": 116,
   "metadata": {},
   "outputs": [
    {
     "data": {
      "text/plain": [
       "0"
      ]
     },
     "execution_count": 116,
     "metadata": {},
     "output_type": "execute_result"
    }
   ],
   "source": [
    "target_read.query_alignment_start"
   ]
  },
  {
   "cell_type": "code",
   "execution_count": 117,
   "metadata": {},
   "outputs": [
    {
     "data": {
      "text/plain": [
       "101"
      ]
     },
     "execution_count": 117,
     "metadata": {},
     "output_type": "execute_result"
    }
   ],
   "source": [
    "target_read.query_length"
   ]
  },
  {
   "cell_type": "code",
   "execution_count": 118,
   "metadata": {},
   "outputs": [
    {
     "data": {
      "text/plain": [
       "'HWI-ST672:204:D1HPJACXX:6:1106:19494:193291'"
      ]
     },
     "execution_count": 118,
     "metadata": {},
     "output_type": "execute_result"
    }
   ],
   "source": [
    "target_read.query_name"
   ]
  },
  {
   "cell_type": "code",
   "execution_count": 119,
   "metadata": {},
   "outputs": [
    {
     "data": {
      "text/plain": [
       "array('B', [31, 31, 30, 35, 37, 37, 37, 37, 39, 39, 33, 35, 39, 40, 38, 39, 40, 40, 40, 41, 40, 41, 36, 40, 38, 36, 39, 32, 35, 39, 38, 38, 40, 38, 33, 39, 35, 39, 38, 27, 36, 39, 37, 24, 26, 30, 34, 31, 31, 26, 26, 29, 29, 34, 35, 31, 34, 33, 33, 33, 26, 26, 18, 26, 33, 16, 24, 27, 27, 31, 32, 33, 24, 34, 34, 24, 27, 31, 33, 29, 31, 35, 16, 15, 10, 23, 32, 31, 32, 30, 23, 30, 33, 22, 7, 23, 19, 29, 34, 18, 29])"
      ]
     },
     "execution_count": 119,
     "metadata": {},
     "output_type": "execute_result"
    }
   ],
   "source": [
    "target_read.query_qualities"
   ]
  },
  {
   "cell_type": "code",
   "execution_count": 120,
   "metadata": {},
   "outputs": [
    {
     "data": {
      "text/plain": [
       "'GTCCTCCTCTGCCTGTGGCTGCTGCGGTGGCGGCAGAGGAGGGATGGAGTCTGACACGCGGGCAAAGGCTCCTCCGGGCCCCTCACCAGCCCCAGGTCCTT'"
      ]
     },
     "execution_count": 120,
     "metadata": {},
     "output_type": "execute_result"
    }
   ],
   "source": [
    "target_read.query_sequence"
   ]
  },
  {
   "cell_type": "code",
   "execution_count": 121,
   "metadata": {},
   "outputs": [
    {
     "data": {
      "text/plain": [
       "14817"
      ]
     },
     "execution_count": 121,
     "metadata": {},
     "output_type": "execute_result"
    }
   ],
   "source": [
    "target_read.reference_end"
   ]
  },
  {
   "cell_type": "code",
   "execution_count": 122,
   "metadata": {},
   "outputs": [
    {
     "data": {
      "text/plain": [
       "101"
      ]
     },
     "execution_count": 122,
     "metadata": {},
     "output_type": "execute_result"
    }
   ],
   "source": [
    "target_read.reference_length"
   ]
  },
  {
   "cell_type": "code",
   "execution_count": 124,
   "metadata": {},
   "outputs": [
    {
     "data": {
      "text/plain": [
       "858"
      ]
     },
     "execution_count": 124,
     "metadata": {},
     "output_type": "execute_result"
    }
   ],
   "source": [
    "target_mate.reference_length"
   ]
  },
  {
   "cell_type": "code",
   "execution_count": 125,
   "metadata": {},
   "outputs": [
    {
     "data": {
      "text/plain": [
       "14716"
      ]
     },
     "execution_count": 125,
     "metadata": {},
     "output_type": "execute_result"
    }
   ],
   "source": [
    "target_read.reference_start"
   ]
  },
  {
   "cell_type": "code",
   "execution_count": 126,
   "metadata": {},
   "outputs": [
    {
     "data": {
      "text/plain": [
       "1167"
      ]
     },
     "execution_count": 126,
     "metadata": {},
     "output_type": "execute_result"
    }
   ],
   "source": [
    "target_read.template_length"
   ]
  },
  {
   "cell_type": "code",
   "execution_count": 128,
   "metadata": {},
   "outputs": [
    {
     "data": {
      "text/plain": [
       "{'name': 'HWI-ST672:204:D1HPJACXX:6:1106:19494:193291',\n",
       " 'flag': '99',\n",
       " 'ref_name': '1',\n",
       " 'ref_pos': '14717',\n",
       " 'map_quality': '255',\n",
       " 'cigar': '101M',\n",
       " 'next_ref_name': '=',\n",
       " 'next_ref_pos': '15026',\n",
       " 'length': '1167',\n",
       " 'seq': 'GTCCTCCTCTGCCTGTGGCTGCTGCGGTGGCGGCAGAGGAGGGATGGAGTCTGACACGCGGGCAAAGGCTCCTCCGGGCCCCTCACCAGCCCCAGGTCCTT',\n",
       " 'qual': '@@?DFFFFHHBDHIGHIIIJIJEIGEHADHGGIGBHDHG<EHF9;?C@@;;>>CD@CBBB;;3;B19<<@AB9CC9<@B>@D10+8A@A?8?B7(84>C3>',\n",
       " 'tags': ['NH:i:1',\n",
       "  'HI:i:1',\n",
       "  'NM:i:0',\n",
       "  'MD:Z:101',\n",
       "  'AS:i:201',\n",
       "  'XS:A:-',\n",
       "  'RG:Z:RIKEN:63a26562-e1fb-11e4-9899-a52c75ff8f68:icgc_rna_RNA_RK054_liver_20120731_01']}"
      ]
     },
     "execution_count": 128,
     "metadata": {},
     "output_type": "execute_result"
    }
   ],
   "source": [
    "target_read.to_dict()"
   ]
  },
  {
   "cell_type": "code",
   "execution_count": 129,
   "metadata": {},
   "outputs": [
    {
     "data": {
      "text/plain": [
       "'HWI-ST672:204:D1HPJACXX:6:1106:19494:193291\\t99\\t1\\t14717\\t255\\t101M\\t=\\t15026\\t1167\\tGTCCTCCTCTGCCTGTGGCTGCTGCGGTGGCGGCAGAGGAGGGATGGAGTCTGACACGCGGGCAAAGGCTCCTCCGGGCCCCTCACCAGCCCCAGGTCCTT\\t@@?DFFFFHHBDHIGHIIIJIJEIGEHADHGGIGBHDHG<EHF9;?C@@;;>>CD@CBBB;;3;B19<<@AB9CC9<@B>@D10+8A@A?8?B7(84>C3>\\tNH:i:1\\tHI:i:1\\tNM:i:0\\tMD:Z:101\\tAS:i:201\\tXS:A:-\\tRG:Z:RIKEN:63a26562-e1fb-11e4-9899-a52c75ff8f68:icgc_rna_RNA_RK054_liver_20120731_01'"
      ]
     },
     "execution_count": 129,
     "metadata": {},
     "output_type": "execute_result"
    }
   ],
   "source": [
    "target_read.to_string()"
   ]
  },
  {
   "cell_type": "markdown",
   "metadata": {},
   "source": [
    "### FASTA:"
   ]
  },
  {
   "cell_type": "code",
   "execution_count": 5,
   "metadata": {},
   "outputs": [],
   "source": [
    "genome = pysam.FastaFile('/home/leo/BioData/genomes/GRCh37.p11.genome.fa')"
   ]
  },
  {
   "cell_type": "code",
   "execution_count": 43,
   "metadata": {},
   "outputs": [
    {
     "data": {
      "text/plain": [
       "['chr1',\n",
       " 'chr2',\n",
       " 'chr3',\n",
       " 'chr4',\n",
       " 'chr5',\n",
       " 'chr6',\n",
       " 'chr7',\n",
       " 'chr8',\n",
       " 'chr9',\n",
       " 'chr10',\n",
       " 'chr11',\n",
       " 'chr12',\n",
       " 'chr13',\n",
       " 'chr14',\n",
       " 'chr15',\n",
       " 'chr16',\n",
       " 'chr17',\n",
       " 'chr18',\n",
       " 'chr19',\n",
       " 'chr20',\n",
       " 'chr21',\n",
       " 'chr22',\n",
       " 'chrX',\n",
       " 'chrY',\n",
       " 'chrM',\n",
       " 'GL877870.2',\n",
       " 'GL877872.1',\n",
       " 'GL383535.1',\n",
       " 'JH159133.1',\n",
       " 'KB021647.1',\n",
       " 'JH159131.1',\n",
       " 'GL949745.1',\n",
       " 'JH720447.1',\n",
       " 'GL582968.1',\n",
       " 'JH720446.1',\n",
       " 'JH591181.2',\n",
       " 'JH720443.1',\n",
       " 'JH159134.2',\n",
       " 'JH636052.4',\n",
       " 'JH636053.2',\n",
       " 'JH636054.1',\n",
       " 'JH636056.1',\n",
       " 'JH636058.1',\n",
       " 'JH636057.1',\n",
       " 'JH720451.1',\n",
       " 'JH720452.1',\n",
       " 'JH720453.1',\n",
       " 'JH720454.2',\n",
       " 'JH159136.1',\n",
       " 'JH806587.1',\n",
       " 'JH806588.1',\n",
       " 'JH806589.1',\n",
       " 'JH806590.2',\n",
       " 'JH806591.1',\n",
       " 'JH806592.1',\n",
       " 'JH806593.1',\n",
       " 'JH806594.1',\n",
       " 'JH806595.1',\n",
       " 'JH806596.1',\n",
       " 'JH806597.1',\n",
       " 'JH720448.1',\n",
       " 'JH806598.1',\n",
       " 'JH806599.1',\n",
       " 'JH806600.1',\n",
       " 'JH806601.1',\n",
       " 'JH806602.1',\n",
       " 'JH806573.1',\n",
       " 'JH806574.1',\n",
       " 'JH806575.1',\n",
       " 'JH806580.1',\n",
       " 'JH806583.1',\n",
       " 'JH806584.1',\n",
       " 'JH806585.1',\n",
       " 'JH806603.1',\n",
       " 'JH159150.2',\n",
       " 'GL582969.1',\n",
       " 'JH806577.1',\n",
       " 'JH806578.1',\n",
       " 'JH806579.1',\n",
       " 'JH159137.1',\n",
       " 'KB021645.1',\n",
       " 'GL383558.1',\n",
       " 'GL582976.1',\n",
       " 'GL383523.1',\n",
       " 'GL949743.1',\n",
       " 'GL383536.1',\n",
       " 'JH591184.1',\n",
       " 'JH636061.1',\n",
       " 'JH806576.1',\n",
       " 'GL383524.1',\n",
       " 'GL582973.1',\n",
       " 'JH159138.1',\n",
       " 'KB021648.1',\n",
       " 'JH159139.1',\n",
       " 'JH159140.1',\n",
       " 'JH591182.1',\n",
       " 'JH159132.1',\n",
       " 'JH720449.1',\n",
       " 'JH591183.1',\n",
       " 'JH720444.1',\n",
       " 'JH159141.2',\n",
       " 'JH720455.1',\n",
       " 'KB021646.1',\n",
       " 'JH159142.2',\n",
       " 'JH159143.1',\n",
       " 'JH806582.1',\n",
       " 'JH159135.1',\n",
       " 'GL877877.1',\n",
       " 'JH806586.1',\n",
       " 'GL582979.2',\n",
       " 'GL582975.1',\n",
       " 'GL949744.1',\n",
       " 'GL383543.1',\n",
       " 'GL877871.1',\n",
       " 'GL582967.1',\n",
       " 'JH159149.1',\n",
       " 'GL582977.1',\n",
       " 'GL582970.1',\n",
       " 'GL383559.1',\n",
       " 'JH159144.1',\n",
       " 'JH591186.1',\n",
       " 'GL383560.1',\n",
       " 'GL339450.1',\n",
       " 'GL582971.1',\n",
       " 'GL582974.1',\n",
       " 'JH806581.1',\n",
       " 'JH636060.1',\n",
       " 'JH591185.1',\n",
       " 'JH159145.1',\n",
       " 'GL877873.1',\n",
       " 'GL582972.1',\n",
       " 'JH636059.1',\n",
       " 'JH720445.1',\n",
       " 'GL383561.1',\n",
       " 'GL949741.1',\n",
       " 'GL383562.1',\n",
       " 'GL383525.1',\n",
       " 'GL383544.1',\n",
       " 'GL383548.1',\n",
       " 'GL383537.1',\n",
       " 'GL383538.1',\n",
       " 'GL383516.1',\n",
       " 'GL383517.1',\n",
       " 'GL383545.1',\n",
       " 'GL383546.1',\n",
       " 'GL383547.1',\n",
       " 'GL877875.1',\n",
       " 'GL383549.1',\n",
       " 'GL383550.1',\n",
       " 'GL383551.1',\n",
       " 'GL877876.1',\n",
       " 'GL383552.1',\n",
       " 'GL383553.2',\n",
       " 'GL383554.1',\n",
       " 'GL383555.1',\n",
       " 'GL383556.1',\n",
       " 'GL383557.1',\n",
       " 'GL000258.1',\n",
       " 'GL383563.1',\n",
       " 'GL383564.1',\n",
       " 'GL383565.1',\n",
       " 'GL383566.1',\n",
       " 'JH159146.1',\n",
       " 'JH159147.1',\n",
       " 'JH159148.1',\n",
       " 'GL383567.1',\n",
       " 'GL383568.1',\n",
       " 'GL383569.1',\n",
       " 'GL383570.1',\n",
       " 'GL383571.1',\n",
       " 'GL383572.1',\n",
       " 'GL949746.1',\n",
       " 'GL949747.1',\n",
       " 'GL949748.1',\n",
       " 'GL949749.1',\n",
       " 'GL949750.1',\n",
       " 'GL949751.1',\n",
       " 'GL949752.1',\n",
       " 'GL949753.1',\n",
       " 'GL383573.1',\n",
       " 'GL383574.1',\n",
       " 'GL383575.2',\n",
       " 'GL383576.1',\n",
       " 'GL383518.1',\n",
       " 'GL383519.1',\n",
       " 'GL383520.1',\n",
       " 'GL383577.1',\n",
       " 'GL383578.1',\n",
       " 'GL383579.1',\n",
       " 'GL383580.1',\n",
       " 'GL383581.1',\n",
       " 'GL383582.2',\n",
       " 'GL383583.1',\n",
       " 'GL383521.1',\n",
       " 'GL383522.1',\n",
       " 'GL582966.2',\n",
       " 'JH636055.1',\n",
       " 'GL383526.1',\n",
       " 'GL000257.1',\n",
       " 'GL383527.1',\n",
       " 'GL383528.1',\n",
       " 'GL383529.1',\n",
       " 'GL339449.2',\n",
       " 'GL383530.1',\n",
       " 'GL383531.1',\n",
       " 'GL383532.1',\n",
       " 'GL949742.1',\n",
       " 'GL383533.1',\n",
       " 'KB021644.1',\n",
       " 'GL000250.1',\n",
       " 'GL000251.1',\n",
       " 'GL000252.1',\n",
       " 'GL000253.1',\n",
       " 'GL000254.1',\n",
       " 'GL000255.1',\n",
       " 'GL000256.1',\n",
       " 'GL383534.2',\n",
       " 'GL383539.1',\n",
       " 'GL383540.1',\n",
       " 'GL383541.1',\n",
       " 'GL383542.1',\n",
       " 'GL000191.1',\n",
       " 'GL000192.1',\n",
       " 'GL000193.1',\n",
       " 'GL000194.1',\n",
       " 'GL000195.1',\n",
       " 'GL000196.1',\n",
       " 'GL000197.1',\n",
       " 'GL000198.1',\n",
       " 'GL000199.1',\n",
       " 'GL000200.1',\n",
       " 'GL000201.1',\n",
       " 'GL000202.1',\n",
       " 'GL000203.1',\n",
       " 'GL000204.1',\n",
       " 'GL000205.1',\n",
       " 'GL000206.1',\n",
       " 'GL000207.1',\n",
       " 'GL000208.1',\n",
       " 'GL000209.1',\n",
       " 'GL000210.1',\n",
       " 'GL000211.1',\n",
       " 'GL000212.1',\n",
       " 'GL000213.1',\n",
       " 'GL000214.1',\n",
       " 'GL000215.1',\n",
       " 'GL000216.1',\n",
       " 'GL000217.1',\n",
       " 'GL000218.1',\n",
       " 'GL000219.1',\n",
       " 'GL000220.1',\n",
       " 'GL000221.1',\n",
       " 'GL000222.1',\n",
       " 'GL000223.1',\n",
       " 'GL000224.1',\n",
       " 'GL000225.1',\n",
       " 'GL000226.1',\n",
       " 'GL000227.1',\n",
       " 'GL000228.1',\n",
       " 'GL000229.1',\n",
       " 'GL000230.1',\n",
       " 'GL000231.1',\n",
       " 'GL000232.1',\n",
       " 'GL000233.1',\n",
       " 'GL000234.1',\n",
       " 'GL000235.1',\n",
       " 'GL000236.1',\n",
       " 'GL000237.1',\n",
       " 'GL000238.1',\n",
       " 'GL000239.1',\n",
       " 'GL000240.1',\n",
       " 'GL000241.1',\n",
       " 'GL000242.1',\n",
       " 'GL000243.1',\n",
       " 'GL000244.1',\n",
       " 'GL000245.1',\n",
       " 'GL000246.1',\n",
       " 'GL000247.1',\n",
       " 'GL000248.1',\n",
       " 'GL000249.1']"
      ]
     },
     "execution_count": 43,
     "metadata": {},
     "output_type": "execute_result"
    }
   ],
   "source": [
    "genome.references"
   ]
  },
  {
   "cell_type": "code",
   "execution_count": 7,
   "metadata": {},
   "outputs": [],
   "source": [
    "import pandas as pd"
   ]
  },
  {
   "cell_type": "code",
   "execution_count": 44,
   "metadata": {},
   "outputs": [],
   "source": [
    "df = pd.read_table('sorted_output/perl_PCAWG.sorted.tsv', header=None)"
   ]
  },
  {
   "cell_type": "code",
   "execution_count": 51,
   "metadata": {},
   "outputs": [],
   "source": [
    "junctions = df.iloc[:, 0]"
   ]
  },
  {
   "cell_type": "code",
   "execution_count": 52,
   "metadata": {},
   "outputs": [],
   "source": [
    "junctions = list(junctions.apply(lambda x: x.split('_')))"
   ]
  },
  {
   "cell_type": "code",
   "execution_count": 53,
   "metadata": {},
   "outputs": [],
   "source": [
    "unique = set()\n",
    "for junction in junctions:\n",
    "    unique.add(junction[0])"
   ]
  },
  {
   "cell_type": "code",
   "execution_count": 54,
   "metadata": {},
   "outputs": [],
   "source": [
    "junctions = list(filter(lambda x: x[0][0].isdigit() or x[0][0] in ('M', 'X', 'Y'), junctions))"
   ]
  },
  {
   "cell_type": "code",
   "execution_count": 55,
   "metadata": {},
   "outputs": [],
   "source": [
    "junctions = list(map(lambda x: ('chr' + x[0] if x[0][0] != 'M' else 'chrM', int(x[1]), int(x[2])), junctions))"
   ]
  },
  {
   "cell_type": "code",
   "execution_count": 56,
   "metadata": {},
   "outputs": [
    {
     "name": "stdout",
     "output_type": "stream",
     "text": [
      "8.56 s ± 27.2 ms per loop (mean ± std. dev. of 7 runs, 1 loop each)\n"
     ]
    }
   ],
   "source": [
    "%%timeit\n",
    "sites = []\n",
    "for junction in junctions:\n",
    "    x = genome.fetch(junction[0], junction[1], junction[1] + 2) + \\\n",
    "        genome.fetch(junction[0], junction[1] - 2, junction[1])\n",
    "    sites.append(x)"
   ]
  },
  {
   "cell_type": "code",
   "execution_count": 58,
   "metadata": {},
   "outputs": [],
   "source": [
    "sites = []\n",
    "for junction in junctions:\n",
    "    x = genome.fetch(junction[0], junction[1], junction[1] + 2) + \\\n",
    "        genome.fetch(junction[0], junction[1] - 2, junction[1])\n",
    "    sites.append(x)"
   ]
  }
 ],
 "metadata": {
  "kernelspec": {
   "display_name": "Python 3",
   "language": "python",
   "name": "python3"
  },
  "language_info": {
   "codemirror_mode": {
    "name": "ipython",
    "version": 3
   },
   "file_extension": ".py",
   "mimetype": "text/x-python",
   "name": "python",
   "nbconvert_exporter": "python",
   "pygments_lexer": "ipython3",
   "version": "3.7.9"
  }
 },
 "nbformat": 4,
 "nbformat_minor": 4
}
